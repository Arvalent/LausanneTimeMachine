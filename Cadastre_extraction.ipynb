{
 "cells": [
  {
   "cell_type": "markdown",
   "metadata": {},
   "source": [
    "# Imports"
   ]
  },
  {
   "cell_type": "code",
   "execution_count": 4,
   "metadata": {},
   "outputs": [],
   "source": [
    "import pandas as pd\n",
    "import numpy as np\n",
    "import matplotlib.pyplot as plt"
   ]
  },
  {
   "cell_type": "markdown",
   "metadata": {},
   "source": [
    "# Data importing\n",
    "Helper function that will help transforming the string that represents a list in the Excel file, to an actual Python list"
   ]
  },
  {
   "cell_type": "code",
   "execution_count": 5,
   "metadata": {},
   "outputs": [],
   "source": [
    "def string_to_list(column):\n",
    "    return [element.strip(\" \") for element in column.strip(\"[]\").replace(\"'\", \"\").replace('\"', \"\").split(\", \")]\n",
    "\n",
    "def single_list_string_to_string(column):\n",
    "    return column[2:-2]"
   ]
  },
  {
   "cell_type": "code",
   "execution_count": 6,
   "metadata": {},
   "outputs": [
    {
     "ename": "XLRDError",
     "evalue": "Excel xlsx file; not supported",
     "output_type": "error",
     "traceback": [
      "\u001b[1;31m---------------------------------------------------------------------------\u001b[0m",
      "\u001b[1;31mXLRDError\u001b[0m                                 Traceback (most recent call last)",
      "\u001b[1;32m<ipython-input-6-641a61043da3>\u001b[0m in \u001b[0;36m<module>\u001b[1;34m\u001b[0m\n\u001b[0;32m      1\u001b[0m \u001b[0mPATH\u001b[0m \u001b[1;33m=\u001b[0m \u001b[1;34m'data/'\u001b[0m\u001b[1;33m\u001b[0m\u001b[1;33m\u001b[0m\u001b[0m\n\u001b[0;32m      2\u001b[0m \u001b[1;33m\u001b[0m\u001b[0m\n\u001b[1;32m----> 3\u001b[1;33m \u001b[0mrecensement\u001b[0m \u001b[1;33m=\u001b[0m \u001b[0mpd\u001b[0m\u001b[1;33m.\u001b[0m\u001b[0mread_excel\u001b[0m\u001b[1;33m(\u001b[0m\u001b[0mPATH\u001b[0m \u001b[1;33m+\u001b[0m \u001b[1;34m'1832_cleaned_data_recensement.xlsx'\u001b[0m\u001b[1;33m)\u001b[0m\u001b[1;33m\u001b[0m\u001b[1;33m\u001b[0m\u001b[0m\n\u001b[0m\u001b[0;32m      4\u001b[0m \u001b[0mrecensement\u001b[0m\u001b[1;33m[\u001b[0m\u001b[1;34m\"PROPRIÉTAIRES DES MAISONS.\"\u001b[0m\u001b[1;33m]\u001b[0m \u001b[1;33m=\u001b[0m \u001b[0mrecensement\u001b[0m\u001b[1;33m[\u001b[0m\u001b[1;34m\"PROPRIÉTAIRES DES MAISONS.\"\u001b[0m\u001b[1;33m]\u001b[0m\u001b[1;33m.\u001b[0m\u001b[0mapply\u001b[0m\u001b[1;33m(\u001b[0m\u001b[0mstring_to_list\u001b[0m\u001b[1;33m)\u001b[0m\u001b[1;33m\u001b[0m\u001b[1;33m\u001b[0m\u001b[0m\n\u001b[0;32m      5\u001b[0m \u001b[0mrecensement\u001b[0m\u001b[1;33m[\u001b[0m\u001b[1;34m\"NOMS DES RUES.\"\u001b[0m\u001b[1;33m]\u001b[0m \u001b[1;33m=\u001b[0m \u001b[0mrecensement\u001b[0m\u001b[1;33m[\u001b[0m\u001b[1;34m\"NOMS DES RUES.\"\u001b[0m\u001b[1;33m]\u001b[0m\u001b[1;33m.\u001b[0m\u001b[0mapply\u001b[0m\u001b[1;33m(\u001b[0m\u001b[0msingle_list_string_to_string\u001b[0m\u001b[1;33m)\u001b[0m\u001b[1;33m\u001b[0m\u001b[1;33m\u001b[0m\u001b[0m\n",
      "\u001b[1;32mE:\\Anaconda\\envs\\shs_MA\\lib\\site-packages\\pandas\\util\\_decorators.py\u001b[0m in \u001b[0;36mwrapper\u001b[1;34m(*args, **kwargs)\u001b[0m\n\u001b[0;32m    294\u001b[0m                 )\n\u001b[0;32m    295\u001b[0m                 \u001b[0mwarnings\u001b[0m\u001b[1;33m.\u001b[0m\u001b[0mwarn\u001b[0m\u001b[1;33m(\u001b[0m\u001b[0mmsg\u001b[0m\u001b[1;33m,\u001b[0m \u001b[0mFutureWarning\u001b[0m\u001b[1;33m,\u001b[0m \u001b[0mstacklevel\u001b[0m\u001b[1;33m=\u001b[0m\u001b[0mstacklevel\u001b[0m\u001b[1;33m)\u001b[0m\u001b[1;33m\u001b[0m\u001b[1;33m\u001b[0m\u001b[0m\n\u001b[1;32m--> 296\u001b[1;33m             \u001b[1;32mreturn\u001b[0m \u001b[0mfunc\u001b[0m\u001b[1;33m(\u001b[0m\u001b[1;33m*\u001b[0m\u001b[0margs\u001b[0m\u001b[1;33m,\u001b[0m \u001b[1;33m**\u001b[0m\u001b[0mkwargs\u001b[0m\u001b[1;33m)\u001b[0m\u001b[1;33m\u001b[0m\u001b[1;33m\u001b[0m\u001b[0m\n\u001b[0m\u001b[0;32m    297\u001b[0m \u001b[1;33m\u001b[0m\u001b[0m\n\u001b[0;32m    298\u001b[0m         \u001b[1;32mreturn\u001b[0m \u001b[0mwrapper\u001b[0m\u001b[1;33m\u001b[0m\u001b[1;33m\u001b[0m\u001b[0m\n",
      "\u001b[1;32mE:\\Anaconda\\envs\\shs_MA\\lib\\site-packages\\pandas\\io\\excel\\_base.py\u001b[0m in \u001b[0;36mread_excel\u001b[1;34m(io, sheet_name, header, names, index_col, usecols, squeeze, dtype, engine, converters, true_values, false_values, skiprows, nrows, na_values, keep_default_na, na_filter, verbose, parse_dates, date_parser, thousands, comment, skipfooter, convert_float, mangle_dupe_cols)\u001b[0m\n\u001b[0;32m    302\u001b[0m \u001b[1;33m\u001b[0m\u001b[0m\n\u001b[0;32m    303\u001b[0m     \u001b[1;32mif\u001b[0m \u001b[1;32mnot\u001b[0m \u001b[0misinstance\u001b[0m\u001b[1;33m(\u001b[0m\u001b[0mio\u001b[0m\u001b[1;33m,\u001b[0m \u001b[0mExcelFile\u001b[0m\u001b[1;33m)\u001b[0m\u001b[1;33m:\u001b[0m\u001b[1;33m\u001b[0m\u001b[1;33m\u001b[0m\u001b[0m\n\u001b[1;32m--> 304\u001b[1;33m         \u001b[0mio\u001b[0m \u001b[1;33m=\u001b[0m \u001b[0mExcelFile\u001b[0m\u001b[1;33m(\u001b[0m\u001b[0mio\u001b[0m\u001b[1;33m,\u001b[0m \u001b[0mengine\u001b[0m\u001b[1;33m=\u001b[0m\u001b[0mengine\u001b[0m\u001b[1;33m)\u001b[0m\u001b[1;33m\u001b[0m\u001b[1;33m\u001b[0m\u001b[0m\n\u001b[0m\u001b[0;32m    305\u001b[0m     \u001b[1;32melif\u001b[0m \u001b[0mengine\u001b[0m \u001b[1;32mand\u001b[0m \u001b[0mengine\u001b[0m \u001b[1;33m!=\u001b[0m \u001b[0mio\u001b[0m\u001b[1;33m.\u001b[0m\u001b[0mengine\u001b[0m\u001b[1;33m:\u001b[0m\u001b[1;33m\u001b[0m\u001b[1;33m\u001b[0m\u001b[0m\n\u001b[0;32m    306\u001b[0m         raise ValueError(\n",
      "\u001b[1;32mE:\\Anaconda\\envs\\shs_MA\\lib\\site-packages\\pandas\\io\\excel\\_base.py\u001b[0m in \u001b[0;36m__init__\u001b[1;34m(self, path_or_buffer, engine)\u001b[0m\n\u001b[0;32m    865\u001b[0m         \u001b[0mself\u001b[0m\u001b[1;33m.\u001b[0m\u001b[0m_io\u001b[0m \u001b[1;33m=\u001b[0m \u001b[0mstringify_path\u001b[0m\u001b[1;33m(\u001b[0m\u001b[0mpath_or_buffer\u001b[0m\u001b[1;33m)\u001b[0m\u001b[1;33m\u001b[0m\u001b[1;33m\u001b[0m\u001b[0m\n\u001b[0;32m    866\u001b[0m \u001b[1;33m\u001b[0m\u001b[0m\n\u001b[1;32m--> 867\u001b[1;33m         \u001b[0mself\u001b[0m\u001b[1;33m.\u001b[0m\u001b[0m_reader\u001b[0m \u001b[1;33m=\u001b[0m \u001b[0mself\u001b[0m\u001b[1;33m.\u001b[0m\u001b[0m_engines\u001b[0m\u001b[1;33m[\u001b[0m\u001b[0mengine\u001b[0m\u001b[1;33m]\u001b[0m\u001b[1;33m(\u001b[0m\u001b[0mself\u001b[0m\u001b[1;33m.\u001b[0m\u001b[0m_io\u001b[0m\u001b[1;33m)\u001b[0m\u001b[1;33m\u001b[0m\u001b[1;33m\u001b[0m\u001b[0m\n\u001b[0m\u001b[0;32m    868\u001b[0m \u001b[1;33m\u001b[0m\u001b[0m\n\u001b[0;32m    869\u001b[0m     \u001b[1;32mdef\u001b[0m \u001b[0m__fspath__\u001b[0m\u001b[1;33m(\u001b[0m\u001b[0mself\u001b[0m\u001b[1;33m)\u001b[0m\u001b[1;33m:\u001b[0m\u001b[1;33m\u001b[0m\u001b[1;33m\u001b[0m\u001b[0m\n",
      "\u001b[1;32mE:\\Anaconda\\envs\\shs_MA\\lib\\site-packages\\pandas\\io\\excel\\_xlrd.py\u001b[0m in \u001b[0;36m__init__\u001b[1;34m(self, filepath_or_buffer)\u001b[0m\n\u001b[0;32m     20\u001b[0m         \u001b[0merr_msg\u001b[0m \u001b[1;33m=\u001b[0m \u001b[1;34m\"Install xlrd >= 1.0.0 for Excel support\"\u001b[0m\u001b[1;33m\u001b[0m\u001b[1;33m\u001b[0m\u001b[0m\n\u001b[0;32m     21\u001b[0m         \u001b[0mimport_optional_dependency\u001b[0m\u001b[1;33m(\u001b[0m\u001b[1;34m\"xlrd\"\u001b[0m\u001b[1;33m,\u001b[0m \u001b[0mextra\u001b[0m\u001b[1;33m=\u001b[0m\u001b[0merr_msg\u001b[0m\u001b[1;33m)\u001b[0m\u001b[1;33m\u001b[0m\u001b[1;33m\u001b[0m\u001b[0m\n\u001b[1;32m---> 22\u001b[1;33m         \u001b[0msuper\u001b[0m\u001b[1;33m(\u001b[0m\u001b[1;33m)\u001b[0m\u001b[1;33m.\u001b[0m\u001b[0m__init__\u001b[0m\u001b[1;33m(\u001b[0m\u001b[0mfilepath_or_buffer\u001b[0m\u001b[1;33m)\u001b[0m\u001b[1;33m\u001b[0m\u001b[1;33m\u001b[0m\u001b[0m\n\u001b[0m\u001b[0;32m     23\u001b[0m \u001b[1;33m\u001b[0m\u001b[0m\n\u001b[0;32m     24\u001b[0m     \u001b[1;33m@\u001b[0m\u001b[0mproperty\u001b[0m\u001b[1;33m\u001b[0m\u001b[1;33m\u001b[0m\u001b[0m\n",
      "\u001b[1;32mE:\\Anaconda\\envs\\shs_MA\\lib\\site-packages\\pandas\\io\\excel\\_base.py\u001b[0m in \u001b[0;36m__init__\u001b[1;34m(self, filepath_or_buffer)\u001b[0m\n\u001b[0;32m    351\u001b[0m             \u001b[0mself\u001b[0m\u001b[1;33m.\u001b[0m\u001b[0mbook\u001b[0m \u001b[1;33m=\u001b[0m \u001b[0mself\u001b[0m\u001b[1;33m.\u001b[0m\u001b[0mload_workbook\u001b[0m\u001b[1;33m(\u001b[0m\u001b[0mfilepath_or_buffer\u001b[0m\u001b[1;33m)\u001b[0m\u001b[1;33m\u001b[0m\u001b[1;33m\u001b[0m\u001b[0m\n\u001b[0;32m    352\u001b[0m         \u001b[1;32melif\u001b[0m \u001b[0misinstance\u001b[0m\u001b[1;33m(\u001b[0m\u001b[0mfilepath_or_buffer\u001b[0m\u001b[1;33m,\u001b[0m \u001b[0mstr\u001b[0m\u001b[1;33m)\u001b[0m\u001b[1;33m:\u001b[0m\u001b[1;33m\u001b[0m\u001b[1;33m\u001b[0m\u001b[0m\n\u001b[1;32m--> 353\u001b[1;33m             \u001b[0mself\u001b[0m\u001b[1;33m.\u001b[0m\u001b[0mbook\u001b[0m \u001b[1;33m=\u001b[0m \u001b[0mself\u001b[0m\u001b[1;33m.\u001b[0m\u001b[0mload_workbook\u001b[0m\u001b[1;33m(\u001b[0m\u001b[0mfilepath_or_buffer\u001b[0m\u001b[1;33m)\u001b[0m\u001b[1;33m\u001b[0m\u001b[1;33m\u001b[0m\u001b[0m\n\u001b[0m\u001b[0;32m    354\u001b[0m         \u001b[1;32melif\u001b[0m \u001b[0misinstance\u001b[0m\u001b[1;33m(\u001b[0m\u001b[0mfilepath_or_buffer\u001b[0m\u001b[1;33m,\u001b[0m \u001b[0mbytes\u001b[0m\u001b[1;33m)\u001b[0m\u001b[1;33m:\u001b[0m\u001b[1;33m\u001b[0m\u001b[1;33m\u001b[0m\u001b[0m\n\u001b[0;32m    355\u001b[0m             \u001b[0mself\u001b[0m\u001b[1;33m.\u001b[0m\u001b[0mbook\u001b[0m \u001b[1;33m=\u001b[0m \u001b[0mself\u001b[0m\u001b[1;33m.\u001b[0m\u001b[0mload_workbook\u001b[0m\u001b[1;33m(\u001b[0m\u001b[0mBytesIO\u001b[0m\u001b[1;33m(\u001b[0m\u001b[0mfilepath_or_buffer\u001b[0m\u001b[1;33m)\u001b[0m\u001b[1;33m)\u001b[0m\u001b[1;33m\u001b[0m\u001b[1;33m\u001b[0m\u001b[0m\n",
      "\u001b[1;32mE:\\Anaconda\\envs\\shs_MA\\lib\\site-packages\\pandas\\io\\excel\\_xlrd.py\u001b[0m in \u001b[0;36mload_workbook\u001b[1;34m(self, filepath_or_buffer)\u001b[0m\n\u001b[0;32m     35\u001b[0m             \u001b[1;32mreturn\u001b[0m \u001b[0mopen_workbook\u001b[0m\u001b[1;33m(\u001b[0m\u001b[0mfile_contents\u001b[0m\u001b[1;33m=\u001b[0m\u001b[0mdata\u001b[0m\u001b[1;33m)\u001b[0m\u001b[1;33m\u001b[0m\u001b[1;33m\u001b[0m\u001b[0m\n\u001b[0;32m     36\u001b[0m         \u001b[1;32melse\u001b[0m\u001b[1;33m:\u001b[0m\u001b[1;33m\u001b[0m\u001b[1;33m\u001b[0m\u001b[0m\n\u001b[1;32m---> 37\u001b[1;33m             \u001b[1;32mreturn\u001b[0m \u001b[0mopen_workbook\u001b[0m\u001b[1;33m(\u001b[0m\u001b[0mfilepath_or_buffer\u001b[0m\u001b[1;33m)\u001b[0m\u001b[1;33m\u001b[0m\u001b[1;33m\u001b[0m\u001b[0m\n\u001b[0m\u001b[0;32m     38\u001b[0m \u001b[1;33m\u001b[0m\u001b[0m\n\u001b[0;32m     39\u001b[0m     \u001b[1;33m@\u001b[0m\u001b[0mproperty\u001b[0m\u001b[1;33m\u001b[0m\u001b[1;33m\u001b[0m\u001b[0m\n",
      "\u001b[1;32mE:\\Anaconda\\envs\\shs_MA\\lib\\site-packages\\xlrd\\__init__.py\u001b[0m in \u001b[0;36mopen_workbook\u001b[1;34m(filename, logfile, verbosity, use_mmap, file_contents, encoding_override, formatting_info, on_demand, ragged_rows, ignore_workbook_corruption)\u001b[0m\n",
      "\u001b[1;31mXLRDError\u001b[0m: Excel xlsx file; not supported"
     ]
    }
   ],
   "source": [
    "PATH = 'data/'\n",
    "\n",
    "recensement = pd.read_excel(PATH + '1832_cleaned_data_recensement.xlsx')\n",
    "recensement[\"PROPRIÉTAIRES DES MAISONS.\"] = recensement[\"PROPRIÉTAIRES DES MAISONS.\"].apply(string_to_list)\n",
    "recensement[\"NOMS DES RUES.\"] = recensement[\"NOMS DES RUES.\"].apply(single_list_string_to_string)\n",
    "\n",
    "cadastre = pd.read_excel(PATH + 'legende.xlsx')\n",
    "cadastre[\"use\"] = cadastre[\"use\"].apply(string_to_list)\n",
    "\n",
    "\n",
    "n_folio_9 = len(cadastre[cadastre[\"folio\"] == 9][\"nr\"].unique())\n",
    "print(n_folio_9)\n",
    "folio9gsj = cadastre[(cadastre[\"folio\"] == 9) & (cadastre[\"nr\"] >= 107) & (cadastre[\"nr\"] < 239)]\n",
    "print(len(folio9gsj))\n",
    "\n",
    "\n",
    "\n",
    "folio_streets = pd.DataFrame({\"folio\" : [1, 1, 1, 1, 1, 2, 2, 2, 2, 3, 3, 3, 3, 3, 3, 3, 4, 4, 4, 5, 6, 6, 7, 7, 7, 7, 7, 8, 8, 8, 8 ,8, 8, 8, 9, 9, 9, 9, 10, 10 ,10, 11, 11], \"street\" : [\"Rue du Petit Chêne\", \"Rue du Grand Chêne\", \"Descente de Pépinet\", \"Chemin du Pas des anes\", \"Derrière les Terraux\",\n",
    "                                                                    \"Place de Saint-François\", \"Descente de Pépinet\", \"Montée de Saint-François\", \"Derrière Saint-François\",\n",
    "                                                                    \"Rue de Saint-Pierre\", \"Rue de Bourg\", \"Derrière Bourg\", \"Rue Cheneau de Bourg\", \"Rue du Pré\", \"Montée de Saint-François\", \"Ruelle Saint-Pierre\",\n",
    "                                                                    \"Martherey\", \"Rue d'Etraz\", \"Chemin derrière Etraz\",\n",
    "                                                                    \"Martherey\",\n",
    "                                                                    \"Rue de la Cité devant\", \"Rue de la Cité derrière\",\n",
    "                                                                    \"Rue de l'Hopital\", \"Rue du Pré\", \"Derrière les Chenaux\" ,\"Rue de l'Etienne\", \"Rue de la Cité derrière\",\n",
    "                                                                    \"Place de la Palud\", \"Rue de la Mercerie\", \"Rue du Petit Saint-Jean\", \"Place du Pont\", \"Rue du Pont\", \"Rue des Escaliers du Marché\", \"Rue de la Madelaine\",\n",
    "                                                                    \"Montée de Saint-Laurent\", \"Place de Saint-Laurent\", \"En Pépinet\", \"Grand Saint Jean\",\n",
    "                                                                    \"Rue de Saint-Laurent\", \"Rue du Chaucrau\", \"Derrière Saint-Laurent\",\n",
    "                                                                    \"Rue de l'hâle de Saint-Laurent\", \"Derrière l'Hâle de Saint-Laurent\"]})\n",
    "\n",
    "\n",
    "cadastre = pd.merge(cadastre, folio_streets, left_on = \"folio\", right_on = \"folio\", how=\"inner\")\n",
    "\n",
    "\n",
    "\n",
    "folio_streets.head(10)"
   ]
  },
  {
   "cell_type": "code",
   "execution_count": 29,
   "metadata": {},
   "outputs": [
    {
     "data": {
      "text/html": [
       "<div>\n",
       "<style scoped>\n",
       "    .dataframe tbody tr th:only-of-type {\n",
       "        vertical-align: middle;\n",
       "    }\n",
       "\n",
       "    .dataframe tbody tr th {\n",
       "        vertical-align: top;\n",
       "    }\n",
       "\n",
       "    .dataframe thead th {\n",
       "        text-align: right;\n",
       "    }\n",
       "</style>\n",
       "<table border=\"1\" class=\"dataframe\">\n",
       "  <thead>\n",
       "    <tr style=\"text-align: right;\">\n",
       "      <th></th>\n",
       "      <th>Unnamed: 0</th>\n",
       "      <th>NOMS DES RUES.</th>\n",
       "      <th>N° des MAISONS.</th>\n",
       "      <th>PROPRIÉTAIRES DES MAISONS.</th>\n",
       "      <th>NOMS DES CHEFS DE FAMILLE ET AUTRES LOCATAIRES. NOMS DE BAPTÊME.</th>\n",
       "      <th>NOMS DES CHEFS DE FAMILLE ET AUTRES LOCATAIRES. NOMS DE FAMILLE.</th>\n",
       "      <th>Année de la naissance. [h]</th>\n",
       "      <th>NOMS DE LEURS ÉPOUSES.</th>\n",
       "      <th>Année de la naissance. [f]</th>\n",
       "      <th>Noms de leurs enfans actuellement dans la Commune.</th>\n",
       "      <th>...</th>\n",
       "      <th>Date de leur demeure dans la Commune.</th>\n",
       "      <th>VOCATION.</th>\n",
       "      <th>N° de leur Récépissé. [famille]</th>\n",
       "      <th>NOMS DES PENSIONNAIRES, COMMIS, APPRENTIS, OUVRIERS ET DOMESTIQUES. NOMS DE BAPTÊME.</th>\n",
       "      <th>NOMS DES PENSIONNAIRES, COMMIS, APPRENTIS, OUVRIERS ET DOMESTIQUES. NOMS DE FAMILLE.</th>\n",
       "      <th>D'où ils sont bourgeois, ou à ce défaut d'où ils sont originaires. [dom/pens]</th>\n",
       "      <th>Indiquer ici s'ils sont Pensionnaires, Commis, Apprentis, Ouvriers ou Domestiques.</th>\n",
       "      <th>N° de leur Récépissé. [dom/pens]</th>\n",
       "      <th>OBSERVATIONS.</th>\n",
       "      <th>Page</th>\n",
       "    </tr>\n",
       "  </thead>\n",
       "  <tbody>\n",
       "    <tr>\n",
       "      <th>0</th>\n",
       "      <td>0</td>\n",
       "      <td>Martherey</td>\n",
       "      <td>['7']</td>\n",
       "      <td>[Gilliéron]</td>\n",
       "      <td>['Jean Louis']</td>\n",
       "      <td>[['Deprez', 'Devez']]</td>\n",
       "      <td>['1768']</td>\n",
       "      <td>[['Echs', 'Ochs']]</td>\n",
       "      <td>['1793']</td>\n",
       "      <td>[['Laura', 'Lucia', 'Lucy']]</td>\n",
       "      <td>...</td>\n",
       "      <td>['1831']</td>\n",
       "      <td>['journalier', 'journalier']</td>\n",
       "      <td>[]</td>\n",
       "      <td>[]</td>\n",
       "      <td>[]</td>\n",
       "      <td>[]</td>\n",
       "      <td>[]</td>\n",
       "      <td>[]</td>\n",
       "      <td>[]</td>\n",
       "      <td>3</td>\n",
       "    </tr>\n",
       "    <tr>\n",
       "      <th>1</th>\n",
       "      <td>1</td>\n",
       "      <td>Martherey</td>\n",
       "      <td>['7']</td>\n",
       "      <td>[]</td>\n",
       "      <td>[['Jean Andre', 'Jean Marc', 'Jean Marie', 'Je...</td>\n",
       "      <td>['Fontannaz']</td>\n",
       "      <td>['1778']</td>\n",
       "      <td>['Sophprant', 'Loretti']</td>\n",
       "      <td>['1778']</td>\n",
       "      <td>['Jeanne', 'Jeanne', 'Abram', 'Jeannette', ['D...</td>\n",
       "      <td>...</td>\n",
       "      <td>['1812']</td>\n",
       "      <td>['journalier', 'journalier']</td>\n",
       "      <td>['1525']</td>\n",
       "      <td>[]</td>\n",
       "      <td>[]</td>\n",
       "      <td>[]</td>\n",
       "      <td>[]</td>\n",
       "      <td>[]</td>\n",
       "      <td>[]</td>\n",
       "      <td>3</td>\n",
       "    </tr>\n",
       "    <tr>\n",
       "      <th>2</th>\n",
       "      <td>2</td>\n",
       "      <td>Martherey</td>\n",
       "      <td>['7']</td>\n",
       "      <td>[]</td>\n",
       "      <td>['Marie Louis']</td>\n",
       "      <td>[['Guerry', 'Minery', 'Querry', 'Terry', 'Thie...</td>\n",
       "      <td>['1774']</td>\n",
       "      <td>['Chavan']</td>\n",
       "      <td>['1777']</td>\n",
       "      <td>[['Louis', 'Louisa', 'Louise', 'Louison'], 'In...</td>\n",
       "      <td>...</td>\n",
       "      <td>['né']</td>\n",
       "      <td>['vigneron']</td>\n",
       "      <td>[]</td>\n",
       "      <td>[]</td>\n",
       "      <td>[]</td>\n",
       "      <td>[]</td>\n",
       "      <td>[]</td>\n",
       "      <td>[]</td>\n",
       "      <td>[]</td>\n",
       "      <td>3</td>\n",
       "    </tr>\n",
       "    <tr>\n",
       "      <th>3</th>\n",
       "      <td>3</td>\n",
       "      <td>Martherey</td>\n",
       "      <td>['7']</td>\n",
       "      <td>[Cherbouin]</td>\n",
       "      <td>['Henry']</td>\n",
       "      <td>['Cherbuin']</td>\n",
       "      <td>['1798']</td>\n",
       "      <td>['Perret']</td>\n",
       "      <td>['1793']</td>\n",
       "      <td>['Louise', 'Samuel']</td>\n",
       "      <td>...</td>\n",
       "      <td>['1812']</td>\n",
       "      <td>['charpentier']</td>\n",
       "      <td>['2212']</td>\n",
       "      <td>[]</td>\n",
       "      <td>[]</td>\n",
       "      <td>[]</td>\n",
       "      <td>[]</td>\n",
       "      <td>[]</td>\n",
       "      <td>[]</td>\n",
       "      <td>3</td>\n",
       "    </tr>\n",
       "    <tr>\n",
       "      <th>4</th>\n",
       "      <td>4</td>\n",
       "      <td>Martherey</td>\n",
       "      <td>['7']</td>\n",
       "      <td>[]</td>\n",
       "      <td>['Jaques']</td>\n",
       "      <td>['Mermoud']</td>\n",
       "      <td>['1780']</td>\n",
       "      <td>[]</td>\n",
       "      <td>[]</td>\n",
       "      <td>[]</td>\n",
       "      <td>...</td>\n",
       "      <td>['1830']</td>\n",
       "      <td>['manoeuvre']</td>\n",
       "      <td>[]</td>\n",
       "      <td>[]</td>\n",
       "      <td>[]</td>\n",
       "      <td>[]</td>\n",
       "      <td>[]</td>\n",
       "      <td>[]</td>\n",
       "      <td>[]</td>\n",
       "      <td>3</td>\n",
       "    </tr>\n",
       "  </tbody>\n",
       "</table>\n",
       "<p>5 rows × 22 columns</p>\n",
       "</div>"
      ],
      "text/plain": [
       "   Unnamed: 0 NOMS DES RUES. N° des MAISONS. PROPRIÉTAIRES DES MAISONS.  \\\n",
       "0           0      Martherey           ['7']                [Gilliéron]   \n",
       "1           1      Martherey           ['7']                         []   \n",
       "2           2      Martherey           ['7']                         []   \n",
       "3           3      Martherey           ['7']                [Cherbouin]   \n",
       "4           4      Martherey           ['7']                         []   \n",
       "\n",
       "  NOMS DES CHEFS DE FAMILLE ET AUTRES LOCATAIRES. NOMS DE BAPTÊME.  \\\n",
       "0                                     ['Jean Louis']                 \n",
       "1  [['Jean Andre', 'Jean Marc', 'Jean Marie', 'Je...                 \n",
       "2                                    ['Marie Louis']                 \n",
       "3                                          ['Henry']                 \n",
       "4                                         ['Jaques']                 \n",
       "\n",
       "  NOMS DES CHEFS DE FAMILLE ET AUTRES LOCATAIRES. NOMS DE FAMILLE.  \\\n",
       "0                              [['Deprez', 'Devez']]                 \n",
       "1                                      ['Fontannaz']                 \n",
       "2  [['Guerry', 'Minery', 'Querry', 'Terry', 'Thie...                 \n",
       "3                                       ['Cherbuin']                 \n",
       "4                                        ['Mermoud']                 \n",
       "\n",
       "  Année de la naissance. [h]    NOMS DE LEURS ÉPOUSES.  \\\n",
       "0                   ['1768']        [['Echs', 'Ochs']]   \n",
       "1                   ['1778']  ['Sophprant', 'Loretti']   \n",
       "2                   ['1774']                ['Chavan']   \n",
       "3                   ['1798']                ['Perret']   \n",
       "4                   ['1780']                        []   \n",
       "\n",
       "  Année de la naissance. [f]  \\\n",
       "0                   ['1793']   \n",
       "1                   ['1778']   \n",
       "2                   ['1777']   \n",
       "3                   ['1793']   \n",
       "4                         []   \n",
       "\n",
       "  Noms de leurs enfans actuellement dans la Commune.  ...  \\\n",
       "0                       [['Laura', 'Lucia', 'Lucy']]  ...   \n",
       "1  ['Jeanne', 'Jeanne', 'Abram', 'Jeannette', ['D...  ...   \n",
       "2  [['Louis', 'Louisa', 'Louise', 'Louison'], 'In...  ...   \n",
       "3                               ['Louise', 'Samuel']  ...   \n",
       "4                                                 []  ...   \n",
       "\n",
       "  Date de leur demeure dans la Commune.                     VOCATION.  \\\n",
       "0                              ['1831']  ['journalier', 'journalier']   \n",
       "1                              ['1812']  ['journalier', 'journalier']   \n",
       "2                                ['né']                  ['vigneron']   \n",
       "3                              ['1812']               ['charpentier']   \n",
       "4                              ['1830']                 ['manoeuvre']   \n",
       "\n",
       "  N° de leur Récépissé. [famille]  \\\n",
       "0                              []   \n",
       "1                        ['1525']   \n",
       "2                              []   \n",
       "3                        ['2212']   \n",
       "4                              []   \n",
       "\n",
       "  NOMS DES PENSIONNAIRES, COMMIS, APPRENTIS, OUVRIERS ET DOMESTIQUES. NOMS DE BAPTÊME.  \\\n",
       "0                                                 []                                     \n",
       "1                                                 []                                     \n",
       "2                                                 []                                     \n",
       "3                                                 []                                     \n",
       "4                                                 []                                     \n",
       "\n",
       "  NOMS DES PENSIONNAIRES, COMMIS, APPRENTIS, OUVRIERS ET DOMESTIQUES. NOMS DE FAMILLE.  \\\n",
       "0                                                 []                                     \n",
       "1                                                 []                                     \n",
       "2                                                 []                                     \n",
       "3                                                 []                                     \n",
       "4                                                 []                                     \n",
       "\n",
       "  D'où ils sont bourgeois, ou à ce défaut d'où ils sont originaires. [dom/pens]  \\\n",
       "0                                                 []                              \n",
       "1                                                 []                              \n",
       "2                                                 []                              \n",
       "3                                                 []                              \n",
       "4                                                 []                              \n",
       "\n",
       "  Indiquer ici s'ils sont Pensionnaires, Commis, Apprentis, Ouvriers ou Domestiques.  \\\n",
       "0                                                 []                                   \n",
       "1                                                 []                                   \n",
       "2                                                 []                                   \n",
       "3                                                 []                                   \n",
       "4                                                 []                                   \n",
       "\n",
       "  N° de leur Récépissé. [dom/pens] OBSERVATIONS. Page  \n",
       "0                               []            []    3  \n",
       "1                               []            []    3  \n",
       "2                               []            []    3  \n",
       "3                               []            []    3  \n",
       "4                               []            []    3  \n",
       "\n",
       "[5 rows x 22 columns]"
      ]
     },
     "execution_count": 29,
     "metadata": {},
     "output_type": "execute_result"
    }
   ],
   "source": [
    "recensement.head(5)"
   ]
  },
  {
   "cell_type": "code",
   "execution_count": 30,
   "metadata": {},
   "outputs": [
    {
     "data": {
      "text/html": [
       "<div>\n",
       "<style scoped>\n",
       "    .dataframe tbody tr th:only-of-type {\n",
       "        vertical-align: middle;\n",
       "    }\n",
       "\n",
       "    .dataframe tbody tr th {\n",
       "        vertical-align: top;\n",
       "    }\n",
       "\n",
       "    .dataframe thead th {\n",
       "        text-align: right;\n",
       "    }\n",
       "</style>\n",
       "<table border=\"1\" class=\"dataframe\">\n",
       "  <thead>\n",
       "    <tr style=\"text-align: right;\">\n",
       "      <th></th>\n",
       "      <th>Unnamed: 0</th>\n",
       "      <th>folio</th>\n",
       "      <th>nr</th>\n",
       "      <th>articles</th>\n",
       "      <th>use</th>\n",
       "      <th>owner_surname</th>\n",
       "      <th>Unnamed: 6</th>\n",
       "      <th>street</th>\n",
       "    </tr>\n",
       "  </thead>\n",
       "  <tbody>\n",
       "    <tr>\n",
       "      <th>0</th>\n",
       "      <td>0</td>\n",
       "      <td>1</td>\n",
       "      <td>1.0</td>\n",
       "      <td>NaN</td>\n",
       "      <td>[place, passage]</td>\n",
       "      <td>Commune de Lausanne</td>\n",
       "      <td>NaN</td>\n",
       "      <td>Rue du Petit Chêne</td>\n",
       "    </tr>\n",
       "    <tr>\n",
       "      <th>1</th>\n",
       "      <td>0</td>\n",
       "      <td>1</td>\n",
       "      <td>1.0</td>\n",
       "      <td>NaN</td>\n",
       "      <td>[place, passage]</td>\n",
       "      <td>Commune de Lausanne</td>\n",
       "      <td>NaN</td>\n",
       "      <td>Rue du Grand Chêne</td>\n",
       "    </tr>\n",
       "    <tr>\n",
       "      <th>2</th>\n",
       "      <td>0</td>\n",
       "      <td>1</td>\n",
       "      <td>1.0</td>\n",
       "      <td>NaN</td>\n",
       "      <td>[place, passage]</td>\n",
       "      <td>Commune de Lausanne</td>\n",
       "      <td>NaN</td>\n",
       "      <td>Descente de Pépinet</td>\n",
       "    </tr>\n",
       "    <tr>\n",
       "      <th>3</th>\n",
       "      <td>0</td>\n",
       "      <td>1</td>\n",
       "      <td>1.0</td>\n",
       "      <td>NaN</td>\n",
       "      <td>[place, passage]</td>\n",
       "      <td>Commune de Lausanne</td>\n",
       "      <td>NaN</td>\n",
       "      <td>Chemin du Pas des anes</td>\n",
       "    </tr>\n",
       "    <tr>\n",
       "      <th>4</th>\n",
       "      <td>0</td>\n",
       "      <td>1</td>\n",
       "      <td>1.0</td>\n",
       "      <td>NaN</td>\n",
       "      <td>[place, passage]</td>\n",
       "      <td>Commune de Lausanne</td>\n",
       "      <td>NaN</td>\n",
       "      <td>Derrière les Terraux</td>\n",
       "    </tr>\n",
       "  </tbody>\n",
       "</table>\n",
       "</div>"
      ],
      "text/plain": [
       "   Unnamed: 0  folio   nr  articles               use        owner_surname  \\\n",
       "0           0      1  1.0       NaN  [place, passage]  Commune de Lausanne   \n",
       "1           0      1  1.0       NaN  [place, passage]  Commune de Lausanne   \n",
       "2           0      1  1.0       NaN  [place, passage]  Commune de Lausanne   \n",
       "3           0      1  1.0       NaN  [place, passage]  Commune de Lausanne   \n",
       "4           0      1  1.0       NaN  [place, passage]  Commune de Lausanne   \n",
       "\n",
       "  Unnamed: 6                  street  \n",
       "0        NaN      Rue du Petit Chêne  \n",
       "1        NaN      Rue du Grand Chêne  \n",
       "2        NaN     Descente de Pépinet  \n",
       "3        NaN  Chemin du Pas des anes  \n",
       "4        NaN    Derrière les Terraux  "
      ]
     },
     "execution_count": 30,
     "metadata": {},
     "output_type": "execute_result"
    }
   ],
   "source": [
    "cadastre.head(5)"
   ]
  },
  {
   "cell_type": "markdown",
   "metadata": {},
   "source": [
    "# Visualisations\n",
    "## Distribution of uses"
   ]
  },
  {
   "cell_type": "code",
   "execution_count": 31,
   "metadata": {},
   "outputs": [
    {
     "data": {
      "text/plain": [
       "<matplotlib.axes._subplots.AxesSubplot at 0x1afe2b18ac0>"
      ]
     },
     "execution_count": 31,
     "metadata": {},
     "output_type": "execute_result"
    },
    {
     "data": {
      "image/png": "[encoded data removed]",
      "text/plain": [
       "<Figure size 432x288 with 1 Axes>"
      ]
     },
     "metadata": {
      "needs_background": "light"
     },
     "output_type": "display_data"
    }
   ],
   "source": [
    "cadastre.explode(\"use\")[\"use\"].value_counts()[:10].plot(kind='bar', title=\"Histogramme de la distribution des utilisations des parcelles\")"
   ]
  },
  {
   "cell_type": "markdown",
   "metadata": {},
   "source": [
    "## Who possesses the most terrain ?"
   ]
  },
  {
   "cell_type": "code",
   "execution_count": 32,
   "metadata": {},
   "outputs": [
    {
     "data": {
      "text/plain": [
       "<matplotlib.axes._subplots.AxesSubplot at 0x1afe2f02880>"
      ]
     },
     "execution_count": 32,
     "metadata": {},
     "output_type": "execute_result"
    },
    {
     "data": {
      "image/png": "[encoded data removed]",
      "text/plain": [
       "<Figure size 432x288 with 1 Axes>"
      ]
     },
     "metadata": {
      "needs_background": "light"
     },
     "output_type": "display_data"
    }
   ],
   "source": [
    "cadastre.owner_surname.value_counts()[:10].plot(kind=\"bar\", title = \"Qui possède le plus de terrain ?\")"
   ]
  },
  {
   "cell_type": "code",
   "execution_count": 33,
   "metadata": {},
   "outputs": [
    {
     "data": {
      "text/plain": [
       "<matplotlib.axes._subplots.AxesSubplot at 0x1afe4a99700>"
      ]
     },
     "execution_count": 33,
     "metadata": {},
     "output_type": "execute_result"
    },
    {
     "data": {
      "image/png": "[encoded data removed]",
      "text/plain": [
       "<Figure size 432x288 with 1 Axes>"
      ]
     },
     "metadata": {
      "needs_background": "light"
     },
     "output_type": "display_data"
    }
   ],
   "source": [
    "recensement.explode(\"PROPRIÉTAIRES DES MAISONS.\")[\"PROPRIÉTAIRES DES MAISONS.\"].value_counts()[:10].plot(kind='bar')"
   ]
  },
  {
   "cell_type": "code",
   "execution_count": 34,
   "metadata": {},
   "outputs": [
    {
     "data": {
      "text/plain": [
       "<matplotlib.axes._subplots.AxesSubplot at 0x1afe48a94c0>"
      ]
     },
     "execution_count": 34,
     "metadata": {},
     "output_type": "execute_result"
    },
    {
     "data": {
      "image/png": "[encoded data removed]",
      "text/plain": [
       "<Figure size 432x288 with 1 Axes>"
      ]
     },
     "metadata": {
      "needs_background": "light"
     },
     "output_type": "display_data"
    }
   ],
   "source": [
    "recensement[\"NOMS DES RUES.\"].value_counts()[:10].plot(kind='bar')"
   ]
  },
  {
   "cell_type": "markdown",
   "metadata": {},
   "source": [
    "# Merging the two datasets\n",
    "Before trying to merge, we must \"explode\" the recensement dataset such that we get one entry for each owner. Meaning that if an entry has owner [A, B], it should create two entries, the first one belonging to A only and the second one to B only. We then only keep an entry if it has an owner"
   ]
  },
  {
   "cell_type": "code",
   "execution_count": 35,
   "metadata": {},
   "outputs": [],
   "source": [
    "recensement_exploded = recensement.explode(\"PROPRIÉTAIRES DES MAISONS.\")\n",
    "recensement_exploded = recensement_exploded[recensement_exploded[\"PROPRIÉTAIRES DES MAISONS.\"].str.len() > 0]"
   ]
  },
  {
   "cell_type": "markdown",
   "metadata": {},
   "source": [
    "We will first try to merge the two datasets given the full owner names from both datasets. Sadly, it yields an empty dataset, which mean we cannot match them this way. This is mostly due to the fact that the owner_surnames in the cadastre DataFrame actually also contain first names and other indications."
   ]
  },
  {
   "cell_type": "code",
   "execution_count": 36,
   "metadata": {},
   "outputs": [
    {
     "data": {
      "text/html": [
       "<div>\n",
       "<style scoped>\n",
       "    .dataframe tbody tr th:only-of-type {\n",
       "        vertical-align: middle;\n",
       "    }\n",
       "\n",
       "    .dataframe tbody tr th {\n",
       "        vertical-align: top;\n",
       "    }\n",
       "\n",
       "    .dataframe thead th {\n",
       "        text-align: right;\n",
       "    }\n",
       "</style>\n",
       "<table border=\"1\" class=\"dataframe\">\n",
       "  <thead>\n",
       "    <tr style=\"text-align: right;\">\n",
       "      <th></th>\n",
       "      <th>Unnamed: 0_x</th>\n",
       "      <th>folio</th>\n",
       "      <th>nr</th>\n",
       "      <th>articles</th>\n",
       "      <th>use</th>\n",
       "      <th>owner_surname</th>\n",
       "      <th>Unnamed: 6</th>\n",
       "      <th>street</th>\n",
       "      <th>Unnamed: 0_y</th>\n",
       "      <th>NOMS DES RUES.</th>\n",
       "      <th>...</th>\n",
       "      <th>Date de leur demeure dans la Commune.</th>\n",
       "      <th>VOCATION.</th>\n",
       "      <th>N° de leur Récépissé. [famille]</th>\n",
       "      <th>NOMS DES PENSIONNAIRES, COMMIS, APPRENTIS, OUVRIERS ET DOMESTIQUES. NOMS DE BAPTÊME.</th>\n",
       "      <th>NOMS DES PENSIONNAIRES, COMMIS, APPRENTIS, OUVRIERS ET DOMESTIQUES. NOMS DE FAMILLE.</th>\n",
       "      <th>D'où ils sont bourgeois, ou à ce défaut d'où ils sont originaires. [dom/pens]</th>\n",
       "      <th>Indiquer ici s'ils sont Pensionnaires, Commis, Apprentis, Ouvriers ou Domestiques.</th>\n",
       "      <th>N° de leur Récépissé. [dom/pens]</th>\n",
       "      <th>OBSERVATIONS.</th>\n",
       "      <th>Page</th>\n",
       "    </tr>\n",
       "  </thead>\n",
       "  <tbody>\n",
       "  </tbody>\n",
       "</table>\n",
       "<p>0 rows × 30 columns</p>\n",
       "</div>"
      ],
      "text/plain": [
       "Empty DataFrame\n",
       "Columns: [Unnamed: 0_x, folio, nr, articles, use, owner_surname, Unnamed: 6, street, Unnamed: 0_y, NOMS DES RUES., N° des MAISONS., PROPRIÉTAIRES DES MAISONS., NOMS DES CHEFS DE FAMILLE ET AUTRES LOCATAIRES. NOMS DE BAPTÊME., NOMS DES CHEFS DE FAMILLE ET AUTRES LOCATAIRES. NOMS DE FAMILLE., Année de la naissance. [h], NOMS DE LEURS ÉPOUSES., Année de la naissance. [f], Noms de leurs enfans actuellement dans la Commune., Année de la naissance. [enf], D'où ils sont bourgeois, ou à ce défaut d'où ils sont originaires. [famille], Date de leur demeure dans la Commune., VOCATION., N° de leur Récépissé. [famille], NOMS DES PENSIONNAIRES, COMMIS, APPRENTIS, OUVRIERS ET DOMESTIQUES. NOMS DE BAPTÊME., NOMS DES PENSIONNAIRES, COMMIS, APPRENTIS, OUVRIERS ET DOMESTIQUES. NOMS DE FAMILLE., D'où ils sont bourgeois, ou à ce défaut d'où ils sont originaires. [dom/pens], Indiquer ici s'ils sont Pensionnaires, Commis, Apprentis, Ouvriers ou Domestiques., N° de leur Récépissé. [dom/pens], OBSERVATIONS., Page]\n",
       "Index: []\n",
       "\n",
       "[0 rows x 30 columns]"
      ]
     },
     "execution_count": 36,
     "metadata": {},
     "output_type": "execute_result"
    }
   ],
   "source": [
    "pd.merge(cadastre, recensement.explode(\"PROPRIÉTAIRES DES MAISONS.\"), left_on = \"owner_surname\", right_on = \"PROPRIÉTAIRES DES MAISONS.\", how = \"inner\")"
   ]
  },
  {
   "cell_type": "markdown",
   "metadata": {},
   "source": [
    "Because of this flaw, let's try to split the owner names on blank spaces in the cadastre dataset and explode it as well"
   ]
  },
  {
   "cell_type": "code",
   "execution_count": 37,
   "metadata": {},
   "outputs": [],
   "source": [
    "cadastre[\"owner_names\"] = cadastre[\"owner_surname\"].apply(lambda name : name.split(\" \"))\n",
    "cadastre_exploded = cadastre.explode(\"owner_names\")"
   ]
  },
  {
   "cell_type": "markdown",
   "metadata": {},
   "source": [
    "We can now try to merge again"
   ]
  },
  {
   "cell_type": "code",
   "execution_count": 38,
   "metadata": {},
   "outputs": [],
   "source": [
    "merged = pd.merge(cadastre_exploded, recensement_exploded, left_on = \"owner_names\", right_on = \"PROPRIÉTAIRES DES MAISONS.\", how=\"inner\")"
   ]
  },
  {
   "cell_type": "markdown",
   "metadata": {},
   "source": [
    "We now get 7562 results, which is not bad. Of course the current matching is not a 1-to-1 function as it should be. Rather, a terrain is matched to all entries in the recensement belonging to the same person. A 1-to-1 matching will probably require manual work.\n",
    "\n",
    "Moreover, we only match on the surname, which means that there are probably some mistake in the current matching"
   ]
  },
  {
   "cell_type": "code",
   "execution_count": null,
   "metadata": {},
   "outputs": [],
   "source": []
  },
  {
   "cell_type": "code",
   "execution_count": 39,
   "metadata": {},
   "outputs": [
    {
     "data": {
      "text/html": [
       "<div>\n",
       "<style scoped>\n",
       "    .dataframe tbody tr th:only-of-type {\n",
       "        vertical-align: middle;\n",
       "    }\n",
       "\n",
       "    .dataframe tbody tr th {\n",
       "        vertical-align: top;\n",
       "    }\n",
       "\n",
       "    .dataframe thead th {\n",
       "        text-align: right;\n",
       "    }\n",
       "</style>\n",
       "<table border=\"1\" class=\"dataframe\">\n",
       "  <thead>\n",
       "    <tr style=\"text-align: right;\">\n",
       "      <th></th>\n",
       "      <th>Unnamed: 0_x</th>\n",
       "      <th>folio</th>\n",
       "      <th>nr</th>\n",
       "      <th>articles</th>\n",
       "      <th>use</th>\n",
       "      <th>owner_surname</th>\n",
       "      <th>Unnamed: 6</th>\n",
       "      <th>street</th>\n",
       "      <th>owner_names</th>\n",
       "      <th>Unnamed: 0_y</th>\n",
       "      <th>...</th>\n",
       "      <th>Date de leur demeure dans la Commune.</th>\n",
       "      <th>VOCATION.</th>\n",
       "      <th>N° de leur Récépissé. [famille]</th>\n",
       "      <th>NOMS DES PENSIONNAIRES, COMMIS, APPRENTIS, OUVRIERS ET DOMESTIQUES. NOMS DE BAPTÊME.</th>\n",
       "      <th>NOMS DES PENSIONNAIRES, COMMIS, APPRENTIS, OUVRIERS ET DOMESTIQUES. NOMS DE FAMILLE.</th>\n",
       "      <th>D'où ils sont bourgeois, ou à ce défaut d'où ils sont originaires. [dom/pens]</th>\n",
       "      <th>Indiquer ici s'ils sont Pensionnaires, Commis, Apprentis, Ouvriers ou Domestiques.</th>\n",
       "      <th>N° de leur Récépissé. [dom/pens]</th>\n",
       "      <th>OBSERVATIONS.</th>\n",
       "      <th>Page</th>\n",
       "    </tr>\n",
       "  </thead>\n",
       "  <tbody>\n",
       "    <tr>\n",
       "      <th>0</th>\n",
       "      <td>291</td>\n",
       "      <td>3</td>\n",
       "      <td>1.0</td>\n",
       "      <td>NaN</td>\n",
       "      <td>[maison]</td>\n",
       "      <td>Jean–Jacques Buffat</td>\n",
       "      <td>NaN</td>\n",
       "      <td>Rue du Pré</td>\n",
       "      <td>Buffat</td>\n",
       "      <td>1082</td>\n",
       "      <td>...</td>\n",
       "      <td>[]</td>\n",
       "      <td>['charpentier', 'marchand']</td>\n",
       "      <td>['153', '1192']</td>\n",
       "      <td>['1t Albort Jcophile', ['Antoine', 'Antonie', ...</td>\n",
       "      <td>['Lutstorf', 'Aubertet', ['Boeuf', 'Guelfo', '...</td>\n",
       "      <td>['Bern', 'Bavois', 'de llouabe', ['Binn', 'Sax...</td>\n",
       "      <td>['pensionnaire', 'pensionnaire', 'pensionnaire...</td>\n",
       "      <td>['15813', '16466', '16633', '16742', '13634', ...</td>\n",
       "      <td>[]</td>\n",
       "      <td>50</td>\n",
       "    </tr>\n",
       "    <tr>\n",
       "      <th>1</th>\n",
       "      <td>297</td>\n",
       "      <td>3</td>\n",
       "      <td>6.0</td>\n",
       "      <td>NaN</td>\n",
       "      <td>[maison,boutique]</td>\n",
       "      <td>Louis–Daniel Vincent, Louise Vincent née Basti...</td>\n",
       "      <td>NaN</td>\n",
       "      <td>Rue du Pré</td>\n",
       "      <td>Vincent</td>\n",
       "      <td>1000</td>\n",
       "      <td>...</td>\n",
       "      <td>['1790']</td>\n",
       "      <td>['proprietaire']</td>\n",
       "      <td>['174']</td>\n",
       "      <td>['Marguerite']</td>\n",
       "      <td>[['Bovel', 'Bruel', 'Brunel', 'Burel', 'Curel'...</td>\n",
       "      <td>['pe tne Levre']</td>\n",
       "      <td>['domestique']</td>\n",
       "      <td>['2074']</td>\n",
       "      <td>[]</td>\n",
       "      <td>47</td>\n",
       "    </tr>\n",
       "    <tr>\n",
       "      <th>2</th>\n",
       "      <td>315</td>\n",
       "      <td>3</td>\n",
       "      <td>24.0</td>\n",
       "      <td>NaN</td>\n",
       "      <td>[maison]</td>\n",
       "      <td>Hoirie David–Emmanuel Vincent (Marie–Henriette...</td>\n",
       "      <td>NaN</td>\n",
       "      <td>Rue du Pré</td>\n",
       "      <td>Vincent</td>\n",
       "      <td>1000</td>\n",
       "      <td>...</td>\n",
       "      <td>['1790']</td>\n",
       "      <td>['proprietaire']</td>\n",
       "      <td>['174']</td>\n",
       "      <td>['Marguerite']</td>\n",
       "      <td>[['Bovel', 'Bruel', 'Brunel', 'Burel', 'Curel'...</td>\n",
       "      <td>['pe tne Levre']</td>\n",
       "      <td>['domestique']</td>\n",
       "      <td>['2074']</td>\n",
       "      <td>[]</td>\n",
       "      <td>47</td>\n",
       "    </tr>\n",
       "    <tr>\n",
       "      <th>3</th>\n",
       "      <td>316</td>\n",
       "      <td>3</td>\n",
       "      <td>25.0</td>\n",
       "      <td>NaN</td>\n",
       "      <td>[place]</td>\n",
       "      <td>Hoirie David–Emmanuel Vincent (Marie–Henriette...</td>\n",
       "      <td>NaN</td>\n",
       "      <td>Rue du Pré</td>\n",
       "      <td>Vincent</td>\n",
       "      <td>1000</td>\n",
       "      <td>...</td>\n",
       "      <td>['1790']</td>\n",
       "      <td>['proprietaire']</td>\n",
       "      <td>['174']</td>\n",
       "      <td>['Marguerite']</td>\n",
       "      <td>[['Bovel', 'Bruel', 'Brunel', 'Burel', 'Curel'...</td>\n",
       "      <td>['pe tne Levre']</td>\n",
       "      <td>['domestique']</td>\n",
       "      <td>['2074']</td>\n",
       "      <td>[]</td>\n",
       "      <td>47</td>\n",
       "    </tr>\n",
       "    <tr>\n",
       "      <th>4</th>\n",
       "      <td>403</td>\n",
       "      <td>3</td>\n",
       "      <td>113.0</td>\n",
       "      <td>NaN</td>\n",
       "      <td>[maison]</td>\n",
       "      <td>Henri-Emanuel Vincent</td>\n",
       "      <td>NaN</td>\n",
       "      <td>Rue du Pré</td>\n",
       "      <td>Vincent</td>\n",
       "      <td>1000</td>\n",
       "      <td>...</td>\n",
       "      <td>['1790']</td>\n",
       "      <td>['proprietaire']</td>\n",
       "      <td>['174']</td>\n",
       "      <td>['Marguerite']</td>\n",
       "      <td>[['Bovel', 'Bruel', 'Brunel', 'Burel', 'Curel'...</td>\n",
       "      <td>['pe tne Levre']</td>\n",
       "      <td>['domestique']</td>\n",
       "      <td>['2074']</td>\n",
       "      <td>[]</td>\n",
       "      <td>47</td>\n",
       "    </tr>\n",
       "  </tbody>\n",
       "</table>\n",
       "<p>5 rows × 31 columns</p>\n",
       "</div>"
      ],
      "text/plain": [
       "   Unnamed: 0_x  folio     nr  articles                use  \\\n",
       "0           291      3    1.0       NaN           [maison]   \n",
       "1           297      3    6.0       NaN  [maison,boutique]   \n",
       "2           315      3   24.0       NaN           [maison]   \n",
       "3           316      3   25.0       NaN            [place]   \n",
       "4           403      3  113.0       NaN           [maison]   \n",
       "\n",
       "                                       owner_surname Unnamed: 6      street  \\\n",
       "0                                Jean–Jacques Buffat        NaN  Rue du Pré   \n",
       "1  Louis–Daniel Vincent, Louise Vincent née Basti...        NaN  Rue du Pré   \n",
       "2  Hoirie David–Emmanuel Vincent (Marie–Henriette...        NaN  Rue du Pré   \n",
       "3  Hoirie David–Emmanuel Vincent (Marie–Henriette...        NaN  Rue du Pré   \n",
       "4                              Henri-Emanuel Vincent        NaN  Rue du Pré   \n",
       "\n",
       "  owner_names  Unnamed: 0_y  ... Date de leur demeure dans la Commune.  \\\n",
       "0      Buffat          1082  ...                                    []   \n",
       "1     Vincent          1000  ...                              ['1790']   \n",
       "2     Vincent          1000  ...                              ['1790']   \n",
       "3     Vincent          1000  ...                              ['1790']   \n",
       "4     Vincent          1000  ...                              ['1790']   \n",
       "\n",
       "                     VOCATION. N° de leur Récépissé. [famille]  \\\n",
       "0  ['charpentier', 'marchand']                 ['153', '1192']   \n",
       "1             ['proprietaire']                         ['174']   \n",
       "2             ['proprietaire']                         ['174']   \n",
       "3             ['proprietaire']                         ['174']   \n",
       "4             ['proprietaire']                         ['174']   \n",
       "\n",
       "  NOMS DES PENSIONNAIRES, COMMIS, APPRENTIS, OUVRIERS ET DOMESTIQUES. NOMS DE BAPTÊME.  \\\n",
       "0  ['1t Albort Jcophile', ['Antoine', 'Antonie', ...                                     \n",
       "1                                     ['Marguerite']                                     \n",
       "2                                     ['Marguerite']                                     \n",
       "3                                     ['Marguerite']                                     \n",
       "4                                     ['Marguerite']                                     \n",
       "\n",
       "  NOMS DES PENSIONNAIRES, COMMIS, APPRENTIS, OUVRIERS ET DOMESTIQUES. NOMS DE FAMILLE.  \\\n",
       "0  ['Lutstorf', 'Aubertet', ['Boeuf', 'Guelfo', '...                                     \n",
       "1  [['Bovel', 'Bruel', 'Brunel', 'Burel', 'Curel'...                                     \n",
       "2  [['Bovel', 'Bruel', 'Brunel', 'Burel', 'Curel'...                                     \n",
       "3  [['Bovel', 'Bruel', 'Brunel', 'Burel', 'Curel'...                                     \n",
       "4  [['Bovel', 'Bruel', 'Brunel', 'Burel', 'Curel'...                                     \n",
       "\n",
       "  D'où ils sont bourgeois, ou à ce défaut d'où ils sont originaires. [dom/pens]  \\\n",
       "0  ['Bern', 'Bavois', 'de llouabe', ['Binn', 'Sax...                              \n",
       "1                                   ['pe tne Levre']                              \n",
       "2                                   ['pe tne Levre']                              \n",
       "3                                   ['pe tne Levre']                              \n",
       "4                                   ['pe tne Levre']                              \n",
       "\n",
       "  Indiquer ici s'ils sont Pensionnaires, Commis, Apprentis, Ouvriers ou Domestiques.  \\\n",
       "0  ['pensionnaire', 'pensionnaire', 'pensionnaire...                                   \n",
       "1                                     ['domestique']                                   \n",
       "2                                     ['domestique']                                   \n",
       "3                                     ['domestique']                                   \n",
       "4                                     ['domestique']                                   \n",
       "\n",
       "                    N° de leur Récépissé. [dom/pens] OBSERVATIONS. Page  \n",
       "0  ['15813', '16466', '16633', '16742', '13634', ...            []   50  \n",
       "1                                           ['2074']            []   47  \n",
       "2                                           ['2074']            []   47  \n",
       "3                                           ['2074']            []   47  \n",
       "4                                           ['2074']            []   47  \n",
       "\n",
       "[5 rows x 31 columns]"
      ]
     },
     "execution_count": 39,
     "metadata": {},
     "output_type": "execute_result"
    }
   ],
   "source": [
    "merged = pd.merge(cadastre_exploded, recensement_exploded, left_on = [\"owner_names\", \"street\"], right_on = [\"PROPRIÉTAIRES DES MAISONS.\", \"NOMS DES RUES.\"], how=\"inner\")\n",
    "merged.head(5)"
   ]
  },
  {
   "cell_type": "code",
   "execution_count": 44,
   "metadata": {},
   "outputs": [
    {
     "name": "stdout",
     "output_type": "stream",
     "text": [
      "84 parcelles uniques du folio 9 sur 136 correspondent à une entrée du recensement sur la rue du Grand Saint Jean, c'est-à-dire 61.76470588235294%\n",
      "De plus, 25 entrées sont ambigues, donc 22.93577981651376%\n"
     ]
    }
   ],
   "source": [
    "grand_st_jean = merged[(merged[\"street\"] == \"Grand Saint Jean\") & (merged[\"nr\"] >= 105) & (merged[\"nr\"] < 247)]\n",
    "#r_grand_st_jean = recensement[recensement[ \"NOMS DES RUES.\"] == \"Grand Saint Jean\"]\n",
    "\n",
    "#print(len(r_grand_st_jean))\n",
    "\n",
    "\n",
    "\n",
    "n_grand_st_jean_unique = len(grand_st_jean[\"nr\"].unique())\n",
    "n_grand_st_jean_not_unique = len(grand_st_jean[grand_st_jean[\"nr\"].duplicated()])\n",
    "\n",
    "\n",
    "\n",
    "print(f\"{n_grand_st_jean_unique} parcelles uniques du folio 9 sur {len(folio9gsj)} correspondent à une entrée du recensement sur la rue du Grand Saint Jean, c'est-à-dire {n_grand_st_jean_unique/len(folio9gsj)*100}%\")\n",
    "print(f\"De plus, {n_grand_st_jean_not_unique} entrées sont ambigues, donc {n_grand_st_jean_not_unique/len(grand_st_jean)*100}%\")"
   ]
  },
  {
   "cell_type": "code",
   "execution_count": 41,
   "metadata": {},
   "outputs": [
    {
     "ename": "FileCreateError",
     "evalue": "[Errno 13] Permission denied: 'grand_saint_jean.xlsx'",
     "output_type": "error",
     "traceback": [
      "\u001b[1;31m---------------------------------------------------------------------------\u001b[0m",
      "\u001b[1;31mPermissionError\u001b[0m                           Traceback (most recent call last)",
      "\u001b[1;32m~\\anaconda3\\lib\\site-packages\\xlsxwriter\\workbook.py\u001b[0m in \u001b[0;36mclose\u001b[1;34m(self)\u001b[0m\n\u001b[0;32m    315\u001b[0m             \u001b[1;32mtry\u001b[0m\u001b[1;33m:\u001b[0m\u001b[1;33m\u001b[0m\u001b[1;33m\u001b[0m\u001b[0m\n\u001b[1;32m--> 316\u001b[1;33m                 \u001b[0mself\u001b[0m\u001b[1;33m.\u001b[0m\u001b[0m_store_workbook\u001b[0m\u001b[1;33m(\u001b[0m\u001b[1;33m)\u001b[0m\u001b[1;33m\u001b[0m\u001b[1;33m\u001b[0m\u001b[0m\n\u001b[0m\u001b[0;32m    317\u001b[0m             \u001b[1;32mexcept\u001b[0m \u001b[0mIOError\u001b[0m \u001b[1;32mas\u001b[0m \u001b[0me\u001b[0m\u001b[1;33m:\u001b[0m\u001b[1;33m\u001b[0m\u001b[1;33m\u001b[0m\u001b[0m\n",
      "\u001b[1;32m~\\anaconda3\\lib\\site-packages\\xlsxwriter\\workbook.py\u001b[0m in \u001b[0;36m_store_workbook\u001b[1;34m(self)\u001b[0m\n\u001b[0;32m    631\u001b[0m         \u001b[1;32mexcept\u001b[0m \u001b[0mIOError\u001b[0m \u001b[1;32mas\u001b[0m \u001b[0me\u001b[0m\u001b[1;33m:\u001b[0m\u001b[1;33m\u001b[0m\u001b[1;33m\u001b[0m\u001b[0m\n\u001b[1;32m--> 632\u001b[1;33m             \u001b[1;32mraise\u001b[0m \u001b[0me\u001b[0m\u001b[1;33m\u001b[0m\u001b[1;33m\u001b[0m\u001b[0m\n\u001b[0m\u001b[0;32m    633\u001b[0m \u001b[1;33m\u001b[0m\u001b[0m\n",
      "\u001b[1;32m~\\anaconda3\\lib\\site-packages\\xlsxwriter\\workbook.py\u001b[0m in \u001b[0;36m_store_workbook\u001b[1;34m(self)\u001b[0m\n\u001b[0;32m    628\u001b[0m         \u001b[1;32mtry\u001b[0m\u001b[1;33m:\u001b[0m\u001b[1;33m\u001b[0m\u001b[1;33m\u001b[0m\u001b[0m\n\u001b[1;32m--> 629\u001b[1;33m             xlsx_file = ZipFile(self.filename, \"w\", compression=ZIP_DEFLATED,\n\u001b[0m\u001b[0;32m    630\u001b[0m                                 allowZip64=self.allow_zip64)\n",
      "\u001b[1;32m~\\anaconda3\\lib\\zipfile.py\u001b[0m in \u001b[0;36m__init__\u001b[1;34m(self, file, mode, compression, allowZip64, compresslevel, strict_timestamps)\u001b[0m\n\u001b[0;32m   1249\u001b[0m                 \u001b[1;32mtry\u001b[0m\u001b[1;33m:\u001b[0m\u001b[1;33m\u001b[0m\u001b[1;33m\u001b[0m\u001b[0m\n\u001b[1;32m-> 1250\u001b[1;33m                     \u001b[0mself\u001b[0m\u001b[1;33m.\u001b[0m\u001b[0mfp\u001b[0m \u001b[1;33m=\u001b[0m \u001b[0mio\u001b[0m\u001b[1;33m.\u001b[0m\u001b[0mopen\u001b[0m\u001b[1;33m(\u001b[0m\u001b[0mfile\u001b[0m\u001b[1;33m,\u001b[0m \u001b[0mfilemode\u001b[0m\u001b[1;33m)\u001b[0m\u001b[1;33m\u001b[0m\u001b[1;33m\u001b[0m\u001b[0m\n\u001b[0m\u001b[0;32m   1251\u001b[0m                 \u001b[1;32mexcept\u001b[0m \u001b[0mOSError\u001b[0m\u001b[1;33m:\u001b[0m\u001b[1;33m\u001b[0m\u001b[1;33m\u001b[0m\u001b[0m\n",
      "\u001b[1;31mPermissionError\u001b[0m: [Errno 13] Permission denied: 'grand_saint_jean.xlsx'",
      "\nDuring handling of the above exception, another exception occurred:\n",
      "\u001b[1;31mFileCreateError\u001b[0m                           Traceback (most recent call last)",
      "\u001b[1;32m<ipython-input-41-3073dfe11518>\u001b[0m in \u001b[0;36m<module>\u001b[1;34m\u001b[0m\n\u001b[1;32m----> 1\u001b[1;33m \u001b[0mmerged\u001b[0m\u001b[1;33m[\u001b[0m\u001b[0mmerged\u001b[0m\u001b[1;33m[\u001b[0m\u001b[1;34m\"street\"\u001b[0m\u001b[1;33m]\u001b[0m \u001b[1;33m==\u001b[0m \u001b[1;34m\"Grand Saint Jean\"\u001b[0m\u001b[1;33m]\u001b[0m\u001b[1;33m.\u001b[0m\u001b[0mdrop\u001b[0m\u001b[1;33m(\u001b[0m\u001b[1;33m[\u001b[0m\u001b[1;34m\"Unnamed: 0_x\"\u001b[0m\u001b[1;33m,\u001b[0m \u001b[1;34m\"Unnamed: 0_y\"\u001b[0m\u001b[1;33m]\u001b[0m\u001b[1;33m,\u001b[0m \u001b[0maxis\u001b[0m\u001b[1;33m=\u001b[0m\u001b[1;36m1\u001b[0m\u001b[1;33m)\u001b[0m\u001b[1;33m.\u001b[0m\u001b[0mto_excel\u001b[0m\u001b[1;33m(\u001b[0m\u001b[1;34m\"grand_saint_jean.xlsx\"\u001b[0m\u001b[1;33m)\u001b[0m\u001b[1;33m\u001b[0m\u001b[1;33m\u001b[0m\u001b[0m\n\u001b[0m",
      "\u001b[1;32m~\\anaconda3\\lib\\site-packages\\pandas\\core\\generic.py\u001b[0m in \u001b[0;36mto_excel\u001b[1;34m(self, excel_writer, sheet_name, na_rep, float_format, columns, header, index, index_label, startrow, startcol, engine, merge_cells, encoding, inf_rep, verbose, freeze_panes)\u001b[0m\n\u001b[0;32m   2173\u001b[0m             \u001b[0minf_rep\u001b[0m\u001b[1;33m=\u001b[0m\u001b[0minf_rep\u001b[0m\u001b[1;33m,\u001b[0m\u001b[1;33m\u001b[0m\u001b[1;33m\u001b[0m\u001b[0m\n\u001b[0;32m   2174\u001b[0m         )\n\u001b[1;32m-> 2175\u001b[1;33m         formatter.write(\n\u001b[0m\u001b[0;32m   2176\u001b[0m             \u001b[0mexcel_writer\u001b[0m\u001b[1;33m,\u001b[0m\u001b[1;33m\u001b[0m\u001b[1;33m\u001b[0m\u001b[0m\n\u001b[0;32m   2177\u001b[0m             \u001b[0msheet_name\u001b[0m\u001b[1;33m=\u001b[0m\u001b[0msheet_name\u001b[0m\u001b[1;33m,\u001b[0m\u001b[1;33m\u001b[0m\u001b[1;33m\u001b[0m\u001b[0m\n",
      "\u001b[1;32m~\\anaconda3\\lib\\site-packages\\pandas\\io\\formats\\excel.py\u001b[0m in \u001b[0;36mwrite\u001b[1;34m(self, writer, sheet_name, startrow, startcol, freeze_panes, engine)\u001b[0m\n\u001b[0;32m    736\u001b[0m         )\n\u001b[0;32m    737\u001b[0m         \u001b[1;32mif\u001b[0m \u001b[0mneed_save\u001b[0m\u001b[1;33m:\u001b[0m\u001b[1;33m\u001b[0m\u001b[1;33m\u001b[0m\u001b[0m\n\u001b[1;32m--> 738\u001b[1;33m             \u001b[0mwriter\u001b[0m\u001b[1;33m.\u001b[0m\u001b[0msave\u001b[0m\u001b[1;33m(\u001b[0m\u001b[1;33m)\u001b[0m\u001b[1;33m\u001b[0m\u001b[1;33m\u001b[0m\u001b[0m\n\u001b[0m",
      "\u001b[1;32m~\\anaconda3\\lib\\site-packages\\pandas\\io\\excel\\_xlsxwriter.py\u001b[0m in \u001b[0;36msave\u001b[1;34m(self)\u001b[0m\n\u001b[0;32m    193\u001b[0m         \"\"\"\n\u001b[0;32m    194\u001b[0m \u001b[1;33m\u001b[0m\u001b[0m\n\u001b[1;32m--> 195\u001b[1;33m         \u001b[1;32mreturn\u001b[0m \u001b[0mself\u001b[0m\u001b[1;33m.\u001b[0m\u001b[0mbook\u001b[0m\u001b[1;33m.\u001b[0m\u001b[0mclose\u001b[0m\u001b[1;33m(\u001b[0m\u001b[1;33m)\u001b[0m\u001b[1;33m\u001b[0m\u001b[1;33m\u001b[0m\u001b[0m\n\u001b[0m\u001b[0;32m    196\u001b[0m \u001b[1;33m\u001b[0m\u001b[0m\n\u001b[0;32m    197\u001b[0m     def write_cells(\n",
      "\u001b[1;32m~\\anaconda3\\lib\\site-packages\\xlsxwriter\\workbook.py\u001b[0m in \u001b[0;36mclose\u001b[1;34m(self)\u001b[0m\n\u001b[0;32m    316\u001b[0m                 \u001b[0mself\u001b[0m\u001b[1;33m.\u001b[0m\u001b[0m_store_workbook\u001b[0m\u001b[1;33m(\u001b[0m\u001b[1;33m)\u001b[0m\u001b[1;33m\u001b[0m\u001b[1;33m\u001b[0m\u001b[0m\n\u001b[0;32m    317\u001b[0m             \u001b[1;32mexcept\u001b[0m \u001b[0mIOError\u001b[0m \u001b[1;32mas\u001b[0m \u001b[0me\u001b[0m\u001b[1;33m:\u001b[0m\u001b[1;33m\u001b[0m\u001b[1;33m\u001b[0m\u001b[0m\n\u001b[1;32m--> 318\u001b[1;33m                 \u001b[1;32mraise\u001b[0m \u001b[0mFileCreateError\u001b[0m\u001b[1;33m(\u001b[0m\u001b[0me\u001b[0m\u001b[1;33m)\u001b[0m\u001b[1;33m\u001b[0m\u001b[1;33m\u001b[0m\u001b[0m\n\u001b[0m\u001b[0;32m    319\u001b[0m             \u001b[1;32mexcept\u001b[0m \u001b[0mLargeZipFile\u001b[0m \u001b[1;32mas\u001b[0m \u001b[0me\u001b[0m\u001b[1;33m:\u001b[0m\u001b[1;33m\u001b[0m\u001b[1;33m\u001b[0m\u001b[0m\n\u001b[0;32m    320\u001b[0m                 raise FileSizeError(\"Filesize would require ZIP64 extensions. \"\n",
      "\u001b[1;31mFileCreateError\u001b[0m: [Errno 13] Permission denied: 'grand_saint_jean.xlsx'"
     ]
    }
   ],
   "source": [
    "merged[merged[\"street\"] == \"Grand Saint Jean\"].drop([\"Unnamed: 0_x\", \"Unnamed: 0_y\"], axis=1).to_excel(\"grand_saint_jean.xlsx\")"
   ]
  },
  {
   "cell_type": "code",
   "execution_count": null,
   "metadata": {},
   "outputs": [],
   "source": []
  },
  {
   "cell_type": "code",
   "execution_count": null,
   "metadata": {},
   "outputs": [],
   "source": []
  }
 ],
 "metadata": {
  "kernelspec": {
   "display_name": "Python 3",
   "language": "python",
   "name": "python3"
  },
  "language_info": {
   "codemirror_mode": {
    "name": "ipython",
    "version": 3
   },
   "file_extension": ".py",
   "mimetype": "text/x-python",
   "name": "python",
   "nbconvert_exporter": "python",
   "pygments_lexer": "ipython3",
   "version": "3.8.6"
  }
 },
 "nbformat": 4,
 "nbformat_minor": 4
}
