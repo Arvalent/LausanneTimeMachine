{
 "cells": [
  {
   "cell_type": "markdown",
   "metadata": {},
   "source": [
    "# Imports"
   ]
  },
  {
   "cell_type": "code",
   "execution_count": 1,
   "metadata": {},
   "outputs": [],
   "source": [
    "import pandas as pd\n",
    "import numpy as np\n",
    "import matplotlib.pyplot as plt"
   ]
  },
  {
   "cell_type": "markdown",
   "metadata": {},
   "source": [
    "# Data importing\n",
    "Helper function that will help transforming the string that represents a list in the Excel file, to an actual Python list"
   ]
  },
  {
   "cell_type": "code",
   "execution_count": 6,
   "metadata": {},
   "outputs": [],
   "source": [
    "def string_to_list(column):\n",
    "    return [element.strip(\" \") for element in column.strip(\"[]\").replace(\"'\", \"\").replace('\"', \"\").split(\", \")]\n",
    "\n",
    "def single_list_string_to_string(column):\n",
    "    try:\n",
    "        return column.replace(\"'\", \"\").replace('\"', \"\").replace(\"[\", \"\").replace(\"]\", \"\")\n",
    "    except:\n",
    "        print(column)\n",
    "        return column"
   ]
  },
  {
   "cell_type": "code",
   "execution_count": 7,
   "metadata": {},
   "outputs": [
    {
     "name": "stdout",
     "output_type": "stream",
     "text": [
      "nan\n",
      "nan\n",
      "nan\n"
     ]
    }
   ],
   "source": [
    "PATH = 'data/'\n",
    "\n",
    "recensement = pd.read_excel(PATH + '1832_cleaned_data_recensement.xlsx')\n",
    "recensement[\"PROPRIÉTAIRES DES MAISONS.\"] = recensement[\"PROPRIÉTAIRES DES MAISONS.\"].apply(string_to_list)\n",
    "recensement[\"NOMS DES RUES.\"] = recensement[\"NOMS DES RUES.\"].apply(single_list_string_to_string)\n",
    "recensement[\"VOCATION.\"] = recensement[\"VOCATION.\"].apply(single_list_string_to_string)\n",
    "recensement[\"PROPRIÉTAIRES DES MAISONS.\"] = recensement[\"PROPRIÉTAIRES DES MAISONS.\"].apply(lambda x : x if len(x[0]) > 0 else None)\n",
    "recensement[\"PROPRIÉTAIRES DES MAISONS.\"] = recensement[\"PROPRIÉTAIRES DES MAISONS.\"].fillna(method=\"ffill\")\n",
    "recensement[\"NOMS DES CHEFS DE FAMILLE ET AUTRES LOCATAIRES. NOMS DE BAPTÊME.\"] = recensement[\"NOMS DES CHEFS DE FAMILLE ET AUTRES LOCATAIRES. NOMS DE BAPTÊME.\"].apply(single_list_string_to_string)\n",
    "recensement[\"NOMS DES CHEFS DE FAMILLE ET AUTRES LOCATAIRES. NOMS DE FAMILLE.\"] = recensement[\"NOMS DES CHEFS DE FAMILLE ET AUTRES LOCATAIRES. NOMS DE FAMILLE.\"].apply(single_list_string_to_string)\n",
    "\n",
    "cadastre = pd.read_csv(PATH + 'parcelInfos.csv').query(\"folio <= 11\")\n",
    "cadastre[\"nr\"] = cadastre[\"nr\"].astype(\"int32\")\n",
    "cadastre[\"use\"] = cadastre[\"use\"].apply(single_list_string_to_string)\n",
    "\n",
    "folio_links = pd.read_excel(PATH + \"Folio_link.xlsx\")"
   ]
  },
  {
   "cell_type": "code",
   "execution_count": null,
   "metadata": {},
   "outputs": [],
   "source": [
    "recensement.head(5)"
   ]
  },
  {
   "cell_type": "code",
   "execution_count": null,
   "metadata": {},
   "outputs": [],
   "source": [
    "cadastre"
   ]
  },
  {
   "cell_type": "code",
   "execution_count": null,
   "metadata": {},
   "outputs": [],
   "source": [
    "folio_links.head(2)"
   ]
  },
  {
   "cell_type": "code",
   "execution_count": 8,
   "metadata": {},
   "outputs": [],
   "source": [
    "data = []\n",
    "cadastre[\"street\"] = [[] for _ in range(len(cadastre))]\n",
    "for i, row in folio_links.iterrows():\n",
    "    folio = row[\"folio\"]\n",
    "    for num in range(row[\"num_start\"], row[\"num_stop\"]):\n",
    "        try:\n",
    "            for i in range(len(cadastre.loc[(cadastre[\"nr\"] == num) & (cadastre[\"folio\"] == folio), \"street\"].values)):\n",
    "                cadastre.loc[(cadastre[\"nr\"] == num) & (cadastre[\"folio\"] == folio), \"street\"].values[i].append(row[\"rue\"])\n",
    "        except:\n",
    "            print(cadastre[(cadastre[\"nr\"] == num) & (cadastre[\"folio\"] == folio)][\"street\"], folio, num)\n",
    "cadastre[\"street\"] = cadastre[\"street\"].apply(lambda x : list(set(x)))"
   ]
  },
  {
   "cell_type": "code",
   "execution_count": 16,
   "metadata": {},
   "outputs": [
    {
     "data": {
      "text/plain": [
       "3     400\n",
       "8     376\n",
       "9     289\n",
       "7     224\n",
       "6     216\n",
       "4     215\n",
       "11    159\n",
       "2     158\n",
       "1     149\n",
       "10    129\n",
       "5      74\n",
       "Name: folio, dtype: int64"
      ]
     },
     "execution_count": 16,
     "metadata": {},
     "output_type": "execute_result"
    }
   ],
   "source": [
    "cadastre.folio.value_counts()"
   ]
  },
  {
   "cell_type": "markdown",
   "metadata": {},
   "source": [
    "# Merging the two datasets\n",
    "Before trying to merge, we must \"explode\" the recensement dataset such that we get one entry for each owner. Meaning that if an entry has owner [A, B], it should create two entries, the first one belonging to A only and the second one to B only. We then only keep an entry if it has an owner"
   ]
  },
  {
   "cell_type": "code",
   "execution_count": 10,
   "metadata": {},
   "outputs": [],
   "source": [
    "recensement_exploded = recensement.explode(\"PROPRIÉTAIRES DES MAISONS.\")\n",
    "recensement_exploded = recensement_exploded[recensement_exploded[\"PROPRIÉTAIRES DES MAISONS.\"].str.len() > 0]"
   ]
  },
  {
   "cell_type": "markdown",
   "metadata": {},
   "source": [
    "Because of this flaw, let's try to split the owner names on blank spaces in the cadastre dataset and explode it as well"
   ]
  },
  {
   "cell_type": "code",
   "execution_count": 11,
   "metadata": {},
   "outputs": [
    {
     "data": {
      "text/html": [
       "<div>\n",
       "<style scoped>\n",
       "    .dataframe tbody tr th:only-of-type {\n",
       "        vertical-align: middle;\n",
       "    }\n",
       "\n",
       "    .dataframe tbody tr th {\n",
       "        vertical-align: top;\n",
       "    }\n",
       "\n",
       "    .dataframe thead th {\n",
       "        text-align: right;\n",
       "    }\n",
       "</style>\n",
       "<table border=\"1\" class=\"dataframe\">\n",
       "  <thead>\n",
       "    <tr style=\"text-align: right;\">\n",
       "      <th></th>\n",
       "      <th>Unnamed: 0</th>\n",
       "      <th>Unnamed: 0.1</th>\n",
       "      <th>folio</th>\n",
       "      <th>nr</th>\n",
       "      <th>articles</th>\n",
       "      <th>use</th>\n",
       "      <th>owner_surname</th>\n",
       "      <th>Unnamed: 6</th>\n",
       "      <th>pos</th>\n",
       "      <th>street</th>\n",
       "      <th>owner_names</th>\n",
       "    </tr>\n",
       "  </thead>\n",
       "  <tbody>\n",
       "    <tr>\n",
       "      <th>30</th>\n",
       "      <td>30</td>\n",
       "      <td>30</td>\n",
       "      <td>1</td>\n",
       "      <td>30</td>\n",
       "      <td>NaN</td>\n",
       "      <td>maison</td>\n",
       "      <td>Jaques-Louis Berger</td>\n",
       "      <td>NaN</td>\n",
       "      <td>[46.51917700375838, 6.631740051334762]</td>\n",
       "      <td>Grand Chêne</td>\n",
       "      <td>Jaques-Louis</td>\n",
       "    </tr>\n",
       "    <tr>\n",
       "      <th>30</th>\n",
       "      <td>30</td>\n",
       "      <td>30</td>\n",
       "      <td>1</td>\n",
       "      <td>30</td>\n",
       "      <td>NaN</td>\n",
       "      <td>maison</td>\n",
       "      <td>Jaques-Louis Berger</td>\n",
       "      <td>NaN</td>\n",
       "      <td>[46.51917700375838, 6.631740051334762]</td>\n",
       "      <td>Petit Chêne</td>\n",
       "      <td>Jaques-Louis</td>\n",
       "    </tr>\n",
       "    <tr>\n",
       "      <th>30</th>\n",
       "      <td>30</td>\n",
       "      <td>30</td>\n",
       "      <td>1</td>\n",
       "      <td>30</td>\n",
       "      <td>NaN</td>\n",
       "      <td>maison</td>\n",
       "      <td>Jaques-Louis Berger</td>\n",
       "      <td>NaN</td>\n",
       "      <td>[46.51917700375838, 6.631740051334762]</td>\n",
       "      <td>Grand Chêne</td>\n",
       "      <td>Berger</td>\n",
       "    </tr>\n",
       "    <tr>\n",
       "      <th>30</th>\n",
       "      <td>30</td>\n",
       "      <td>30</td>\n",
       "      <td>1</td>\n",
       "      <td>30</td>\n",
       "      <td>NaN</td>\n",
       "      <td>maison</td>\n",
       "      <td>Jaques-Louis Berger</td>\n",
       "      <td>NaN</td>\n",
       "      <td>[46.51917700375838, 6.631740051334762]</td>\n",
       "      <td>Petit Chêne</td>\n",
       "      <td>Berger</td>\n",
       "    </tr>\n",
       "    <tr>\n",
       "      <th>31</th>\n",
       "      <td>31</td>\n",
       "      <td>31</td>\n",
       "      <td>1</td>\n",
       "      <td>31</td>\n",
       "      <td>NaN</td>\n",
       "      <td>maison</td>\n",
       "      <td>Jaques-Louis Berger</td>\n",
       "      <td>NaN</td>\n",
       "      <td>[46.519226548862484, 6.631787503526648]</td>\n",
       "      <td>Grand Chêne</td>\n",
       "      <td>Jaques-Louis</td>\n",
       "    </tr>\n",
       "    <tr>\n",
       "      <th>...</th>\n",
       "      <td>...</td>\n",
       "      <td>...</td>\n",
       "      <td>...</td>\n",
       "      <td>...</td>\n",
       "      <td>...</td>\n",
       "      <td>...</td>\n",
       "      <td>...</td>\n",
       "      <td>...</td>\n",
       "      <td>...</td>\n",
       "      <td>...</td>\n",
       "      <td>...</td>\n",
       "    </tr>\n",
       "    <tr>\n",
       "      <th>49</th>\n",
       "      <td>49</td>\n",
       "      <td>48</td>\n",
       "      <td>1</td>\n",
       "      <td>48</td>\n",
       "      <td>NaN</td>\n",
       "      <td>buanderie</td>\n",
       "      <td>Marie-Antoine De la Forêt</td>\n",
       "      <td>NaN</td>\n",
       "      <td>[46.51981675515511, 6.63077368419727]</td>\n",
       "      <td>Grand Chêne</td>\n",
       "      <td>Forêt</td>\n",
       "    </tr>\n",
       "    <tr>\n",
       "      <th>50</th>\n",
       "      <td>50</td>\n",
       "      <td>49</td>\n",
       "      <td>1</td>\n",
       "      <td>49</td>\n",
       "      <td>NaN</td>\n",
       "      <td>bois</td>\n",
       "      <td>Marie-Antoine De la Forêt</td>\n",
       "      <td>NaN</td>\n",
       "      <td>[46.52000311197292, 6.63066547811636]</td>\n",
       "      <td>Grand Chêne</td>\n",
       "      <td>Marie-Antoine</td>\n",
       "    </tr>\n",
       "    <tr>\n",
       "      <th>50</th>\n",
       "      <td>50</td>\n",
       "      <td>49</td>\n",
       "      <td>1</td>\n",
       "      <td>49</td>\n",
       "      <td>NaN</td>\n",
       "      <td>bois</td>\n",
       "      <td>Marie-Antoine De la Forêt</td>\n",
       "      <td>NaN</td>\n",
       "      <td>[46.52000311197292, 6.63066547811636]</td>\n",
       "      <td>Grand Chêne</td>\n",
       "      <td>De</td>\n",
       "    </tr>\n",
       "    <tr>\n",
       "      <th>50</th>\n",
       "      <td>50</td>\n",
       "      <td>49</td>\n",
       "      <td>1</td>\n",
       "      <td>49</td>\n",
       "      <td>NaN</td>\n",
       "      <td>bois</td>\n",
       "      <td>Marie-Antoine De la Forêt</td>\n",
       "      <td>NaN</td>\n",
       "      <td>[46.52000311197292, 6.63066547811636]</td>\n",
       "      <td>Grand Chêne</td>\n",
       "      <td>la</td>\n",
       "    </tr>\n",
       "    <tr>\n",
       "      <th>50</th>\n",
       "      <td>50</td>\n",
       "      <td>49</td>\n",
       "      <td>1</td>\n",
       "      <td>49</td>\n",
       "      <td>NaN</td>\n",
       "      <td>bois</td>\n",
       "      <td>Marie-Antoine De la Forêt</td>\n",
       "      <td>NaN</td>\n",
       "      <td>[46.52000311197292, 6.63066547811636]</td>\n",
       "      <td>Grand Chêne</td>\n",
       "      <td>Forêt</td>\n",
       "    </tr>\n",
       "  </tbody>\n",
       "</table>\n",
       "<p>96 rows × 11 columns</p>\n",
       "</div>"
      ],
      "text/plain": [
       "    Unnamed: 0  Unnamed: 0.1  folio  nr  articles        use  \\\n",
       "30          30            30      1  30       NaN     maison   \n",
       "30          30            30      1  30       NaN     maison   \n",
       "30          30            30      1  30       NaN     maison   \n",
       "30          30            30      1  30       NaN     maison   \n",
       "31          31            31      1  31       NaN     maison   \n",
       "..         ...           ...    ...  ..       ...        ...   \n",
       "49          49            48      1  48       NaN  buanderie   \n",
       "50          50            49      1  49       NaN       bois   \n",
       "50          50            49      1  49       NaN       bois   \n",
       "50          50            49      1  49       NaN       bois   \n",
       "50          50            49      1  49       NaN       bois   \n",
       "\n",
       "                owner_surname Unnamed: 6  \\\n",
       "30        Jaques-Louis Berger        NaN   \n",
       "30        Jaques-Louis Berger        NaN   \n",
       "30        Jaques-Louis Berger        NaN   \n",
       "30        Jaques-Louis Berger        NaN   \n",
       "31        Jaques-Louis Berger        NaN   \n",
       "..                        ...        ...   \n",
       "49  Marie-Antoine De la Forêt        NaN   \n",
       "50  Marie-Antoine De la Forêt        NaN   \n",
       "50  Marie-Antoine De la Forêt        NaN   \n",
       "50  Marie-Antoine De la Forêt        NaN   \n",
       "50  Marie-Antoine De la Forêt        NaN   \n",
       "\n",
       "                                        pos       street    owner_names  \n",
       "30   [46.51917700375838, 6.631740051334762]  Grand Chêne   Jaques-Louis  \n",
       "30   [46.51917700375838, 6.631740051334762]  Petit Chêne   Jaques-Louis  \n",
       "30   [46.51917700375838, 6.631740051334762]  Grand Chêne         Berger  \n",
       "30   [46.51917700375838, 6.631740051334762]  Petit Chêne         Berger  \n",
       "31  [46.519226548862484, 6.631787503526648]  Grand Chêne   Jaques-Louis  \n",
       "..                                      ...          ...            ...  \n",
       "49    [46.51981675515511, 6.63077368419727]  Grand Chêne          Forêt  \n",
       "50    [46.52000311197292, 6.63066547811636]  Grand Chêne  Marie-Antoine  \n",
       "50    [46.52000311197292, 6.63066547811636]  Grand Chêne             De  \n",
       "50    [46.52000311197292, 6.63066547811636]  Grand Chêne             la  \n",
       "50    [46.52000311197292, 6.63066547811636]  Grand Chêne          Forêt  \n",
       "\n",
       "[96 rows x 11 columns]"
      ]
     },
     "execution_count": 11,
     "metadata": {},
     "output_type": "execute_result"
    }
   ],
   "source": [
    "cadastre[\"owner_names\"] = cadastre[\"owner_surname\"].apply(lambda name : name.split(\" \"))\n",
    "cadastre_exploded = cadastre.explode(\"owner_names\")\n",
    "cadastre_exploded = cadastre_exploded.explode(\"street\")\n",
    "cadastre_exploded.loc[30:50]"
   ]
  },
  {
   "cell_type": "code",
   "execution_count": 12,
   "metadata": {},
   "outputs": [
    {
     "name": "stdout",
     "output_type": "stream",
     "text": [
      "3820\n",
      "717\n"
     ]
    }
   ],
   "source": [
    "merged = pd.merge(cadastre_exploded, recensement_exploded, left_on = [\"owner_names\", \"street\"], right_on = [\"PROPRIÉTAIRES DES MAISONS.\", \"NOMS DES RUES.\"], how=\"inner\")\n",
    "print(len(merged))\n",
    "print(len(merged.drop_duplicates([\"nr\", \"folio\"])))"
   ]
  },
  {
   "cell_type": "code",
   "execution_count": 13,
   "metadata": {},
   "outputs": [
    {
     "name": "stdout",
     "output_type": "stream",
     "text": [
      "0.17601683029453016\n"
     ]
    },
    {
     "data": {
      "text/plain": [
       "3707"
      ]
     },
     "execution_count": 13,
     "metadata": {},
     "output_type": "execute_result"
    }
   ],
   "source": [
    "dataset = merged[[\"nr\", \"folio\", \"owner_surname\", \"pos\", \"street\", \"NOMS DES CHEFS DE FAMILLE ET AUTRES LOCATAIRES. NOMS DE BAPTÊME.\", \"NOMS DES CHEFS DE FAMILLE ET AUTRES LOCATAIRES. NOMS DE FAMILLE.\", \"VOCATION.\", \"use\"]].dropna()\n",
    "dataset.columns = [\"nr\", \"folio\",\"owner\", \"position\", \"street\", \"renter_forname\", \"renter_lastname\", \"job\", \"use\"]\n",
    "dataset.position = dataset.position.apply(lambda pos : [float(p) for p in string_to_list(pos)])\n",
    "print(len(dataset.loc[dataset.query(\"use == 'maison'\").drop_duplicates([\"folio\", \"nr\"]).index]) / len(dataset.query(\"use == 'maison'\")))\n",
    "len(dataset)"
   ]
  },
  {
   "cell_type": "code",
   "execution_count": null,
   "metadata": {},
   "outputs": [],
   "source": []
  },
  {
   "cell_type": "code",
   "execution_count": 14,
   "metadata": {},
   "outputs": [],
   "source": [
    "dataset.to_json(\"website/data.json\", orient=\"records\")"
   ]
  },
  {
   "cell_type": "code",
   "execution_count": 15,
   "metadata": {},
   "outputs": [
    {
     "data": {
      "text/html": [
       "<div>\n",
       "<style scoped>\n",
       "    .dataframe tbody tr th:only-of-type {\n",
       "        vertical-align: middle;\n",
       "    }\n",
       "\n",
       "    .dataframe tbody tr th {\n",
       "        vertical-align: top;\n",
       "    }\n",
       "\n",
       "    .dataframe thead th {\n",
       "        text-align: right;\n",
       "    }\n",
       "</style>\n",
       "<table border=\"1\" class=\"dataframe\">\n",
       "  <thead>\n",
       "    <tr style=\"text-align: right;\">\n",
       "      <th></th>\n",
       "      <th>Unnamed: 0</th>\n",
       "      <th>Unnamed: 0.1</th>\n",
       "      <th>folio</th>\n",
       "      <th>nr</th>\n",
       "      <th>articles</th>\n",
       "      <th>use</th>\n",
       "      <th>owner_surname</th>\n",
       "      <th>Unnamed: 6</th>\n",
       "      <th>pos</th>\n",
       "      <th>street</th>\n",
       "      <th>owner_names</th>\n",
       "    </tr>\n",
       "  </thead>\n",
       "  <tbody>\n",
       "    <tr>\n",
       "      <th>1153</th>\n",
       "      <td>1153</td>\n",
       "      <td>1111</td>\n",
       "      <td>6</td>\n",
       "      <td>151</td>\n",
       "      <td>NaN</td>\n",
       "      <td>maison</td>\n",
       "      <td>Jeanne-Françoise Guisan née Dapples</td>\n",
       "      <td>NaN</td>\n",
       "      <td>[46.52337610743361, 6.635635174087884]</td>\n",
       "      <td>[Cité Derrière, Cité Devant]</td>\n",
       "      <td>[Jeanne-Françoise, Guisan, née, Dapples]</td>\n",
       "    </tr>\n",
       "    <tr>\n",
       "      <th>1154</th>\n",
       "      <td>1154</td>\n",
       "      <td>1112</td>\n",
       "      <td>6</td>\n",
       "      <td>152</td>\n",
       "      <td>NaN</td>\n",
       "      <td>cour</td>\n",
       "      <td>Jeanne-Françoise Guisan née Dapples</td>\n",
       "      <td>NaN</td>\n",
       "      <td>[46.52331763087088, 6.6356203098065585]</td>\n",
       "      <td>[Cité Derrière, Cité Devant]</td>\n",
       "      <td>[Jeanne-Françoise, Guisan, née, Dapples]</td>\n",
       "    </tr>\n",
       "    <tr>\n",
       "      <th>1155</th>\n",
       "      <td>1155</td>\n",
       "      <td>1112</td>\n",
       "      <td>6</td>\n",
       "      <td>152</td>\n",
       "      <td>NaN</td>\n",
       "      <td>cour</td>\n",
       "      <td>Jeanne-Françoise Guisan née Dapples</td>\n",
       "      <td>NaN</td>\n",
       "      <td>[46.523923087883446, 6.634665356724987]</td>\n",
       "      <td>[Cité Derrière, Cité Devant]</td>\n",
       "      <td>[Jeanne-Françoise, Guisan, née, Dapples]</td>\n",
       "    </tr>\n",
       "    <tr>\n",
       "      <th>1156</th>\n",
       "      <td>1156</td>\n",
       "      <td>1113</td>\n",
       "      <td>6</td>\n",
       "      <td>153</td>\n",
       "      <td>NaN</td>\n",
       "      <td>maison</td>\n",
       "      <td>Jeanne-Françoise Guisan née Dapples</td>\n",
       "      <td>NaN</td>\n",
       "      <td>[46.523267938733994, 6.635504033866326]</td>\n",
       "      <td>[Cité Derrière, Cité Devant]</td>\n",
       "      <td>[Jeanne-Françoise, Guisan, née, Dapples]</td>\n",
       "    </tr>\n",
       "    <tr>\n",
       "      <th>1157</th>\n",
       "      <td>1157</td>\n",
       "      <td>1114</td>\n",
       "      <td>6</td>\n",
       "      <td>154</td>\n",
       "      <td>NaN</td>\n",
       "      <td>buanderie</td>\n",
       "      <td>Jeanne-Françoise Guisan née Dapples</td>\n",
       "      <td>NaN</td>\n",
       "      <td>[46.523191099868434, 6.6353881615549755]</td>\n",
       "      <td>[Cité Derrière, Cité Devant]</td>\n",
       "      <td>[Jeanne-Françoise, Guisan, née, Dapples]</td>\n",
       "    </tr>\n",
       "    <tr>\n",
       "      <th>1158</th>\n",
       "      <td>1158</td>\n",
       "      <td>1115</td>\n",
       "      <td>6</td>\n",
       "      <td>155</td>\n",
       "      <td>NaN</td>\n",
       "      <td>cour</td>\n",
       "      <td>Jeanne-Françoise Guisan née Dapples</td>\n",
       "      <td>NaN</td>\n",
       "      <td>[46.523176124028616, 6.635477865389208]</td>\n",
       "      <td>[Cité Derrière, Cité Devant]</td>\n",
       "      <td>[Jeanne-Françoise, Guisan, née, Dapples]</td>\n",
       "    </tr>\n",
       "  </tbody>\n",
       "</table>\n",
       "</div>"
      ],
      "text/plain": [
       "      Unnamed: 0  Unnamed: 0.1  folio   nr  articles        use  \\\n",
       "1153        1153          1111      6  151       NaN     maison   \n",
       "1154        1154          1112      6  152       NaN       cour   \n",
       "1155        1155          1112      6  152       NaN       cour   \n",
       "1156        1156          1113      6  153       NaN     maison   \n",
       "1157        1157          1114      6  154       NaN  buanderie   \n",
       "1158        1158          1115      6  155       NaN       cour   \n",
       "\n",
       "                            owner_surname Unnamed: 6  \\\n",
       "1153  Jeanne-Françoise Guisan née Dapples        NaN   \n",
       "1154  Jeanne-Françoise Guisan née Dapples        NaN   \n",
       "1155  Jeanne-Françoise Guisan née Dapples        NaN   \n",
       "1156  Jeanne-Françoise Guisan née Dapples        NaN   \n",
       "1157  Jeanne-Françoise Guisan née Dapples        NaN   \n",
       "1158  Jeanne-Françoise Guisan née Dapples        NaN   \n",
       "\n",
       "                                           pos                        street  \\\n",
       "1153    [46.52337610743361, 6.635635174087884]  [Cité Derrière, Cité Devant]   \n",
       "1154   [46.52331763087088, 6.6356203098065585]  [Cité Derrière, Cité Devant]   \n",
       "1155   [46.523923087883446, 6.634665356724987]  [Cité Derrière, Cité Devant]   \n",
       "1156   [46.523267938733994, 6.635504033866326]  [Cité Derrière, Cité Devant]   \n",
       "1157  [46.523191099868434, 6.6353881615549755]  [Cité Derrière, Cité Devant]   \n",
       "1158   [46.523176124028616, 6.635477865389208]  [Cité Derrière, Cité Devant]   \n",
       "\n",
       "                                   owner_names  \n",
       "1153  [Jeanne-Françoise, Guisan, née, Dapples]  \n",
       "1154  [Jeanne-Françoise, Guisan, née, Dapples]  \n",
       "1155  [Jeanne-Françoise, Guisan, née, Dapples]  \n",
       "1156  [Jeanne-Françoise, Guisan, née, Dapples]  \n",
       "1157  [Jeanne-Françoise, Guisan, née, Dapples]  \n",
       "1158  [Jeanne-Françoise, Guisan, née, Dapples]  "
      ]
     },
     "execution_count": 15,
     "metadata": {},
     "output_type": "execute_result"
    }
   ],
   "source": [
    "cadastre.query(\"owner_surname == 'Jeanne-Françoise Guisan née Dapples'\")"
   ]
  },
  {
   "cell_type": "code",
   "execution_count": null,
   "metadata": {},
   "outputs": [],
   "source": []
  },
  {
   "cell_type": "code",
   "execution_count": null,
   "metadata": {},
   "outputs": [],
   "source": []
  }
 ],
 "metadata": {
  "kernelspec": {
   "display_name": "Python 3",
   "language": "python",
   "name": "python3"
  },
  "language_info": {
   "codemirror_mode": {
    "name": "ipython",
    "version": 3
   },
   "file_extension": ".py",
   "mimetype": "text/x-python",
   "name": "python",
   "nbconvert_exporter": "python",
   "pygments_lexer": "ipython3",
   "version": "3.8.5"
  }
 },
 "nbformat": 4,
 "nbformat_minor": 4
}
