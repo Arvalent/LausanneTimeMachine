{
 "cells": [
  {
   "cell_type": "markdown",
   "metadata": {},
   "source": [
    "# Linking Coordinates from .shp file to parcel information on .xlsx file"
   ]
  },
  {
   "cell_type": "code",
   "execution_count": 2,
   "metadata": {},
   "outputs": [],
   "source": [
    "import shapefile\n",
    "import inspect\n",
    "import pandas as pd"
   ]
  },
  {
   "cell_type": "markdown",
   "metadata": {},
   "source": [
    "### Reading Coordinates"
   ]
  },
  {
   "cell_type": "code",
   "execution_count": 20,
   "metadata": {},
   "outputs": [
    {
     "data": {
      "text/html": [
       "<div>\n",
       "<style scoped>\n",
       "    .dataframe tbody tr th:only-of-type {\n",
       "        vertical-align: middle;\n",
       "    }\n",
       "\n",
       "    .dataframe tbody tr th {\n",
       "        vertical-align: top;\n",
       "    }\n",
       "\n",
       "    .dataframe thead th {\n",
       "        text-align: right;\n",
       "    }\n",
       "</style>\n",
       "<table border=\"1\" class=\"dataframe\">\n",
       "  <thead>\n",
       "    <tr style=\"text-align: right;\">\n",
       "      <th></th>\n",
       "      <th>folio</th>\n",
       "      <th>nr</th>\n",
       "      <th>pos</th>\n",
       "    </tr>\n",
       "  </thead>\n",
       "  <tbody>\n",
       "    <tr>\n",
       "      <th>0</th>\n",
       "      <td>11.0</td>\n",
       "      <td>31</td>\n",
       "      <td>[46.52371705744598, 6.628496551244308]</td>\n",
       "    </tr>\n",
       "    <tr>\n",
       "      <th>1</th>\n",
       "      <td>8.0</td>\n",
       "      <td>62</td>\n",
       "      <td>[46.52144164893615, 6.633088698310576]</td>\n",
       "    </tr>\n",
       "    <tr>\n",
       "      <th>2</th>\n",
       "      <td>5.0</td>\n",
       "      <td>36</td>\n",
       "      <td>[46.52123841427977, 6.6392014093800364]</td>\n",
       "    </tr>\n",
       "    <tr>\n",
       "      <th>3</th>\n",
       "      <td>4.0</td>\n",
       "      <td>19</td>\n",
       "      <td>[46.52100080169083, 6.639751229955555]</td>\n",
       "    </tr>\n",
       "    <tr>\n",
       "      <th>4</th>\n",
       "      <td>3.0</td>\n",
       "      <td>47</td>\n",
       "      <td>[46.520658756766714, 6.634405674598497]</td>\n",
       "    </tr>\n",
       "  </tbody>\n",
       "</table>\n",
       "</div>"
      ],
      "text/plain": [
       "   folio  nr                                      pos\n",
       "0   11.0  31   [46.52371705744598, 6.628496551244308]\n",
       "1    8.0  62   [46.52144164893615, 6.633088698310576]\n",
       "2    5.0  36  [46.52123841427977, 6.6392014093800364]\n",
       "3    4.0  19   [46.52100080169083, 6.639751229955555]\n",
       "4    3.0  47  [46.520658756766714, 6.634405674598497]"
      ]
     },
     "execution_count": 20,
     "metadata": {},
     "output_type": "execute_result"
    }
   ],
   "source": [
    "points_data = pd.DataFrame(pd.read_pickle(\"num_parcelles_coor.pickle\"))\n",
    "points_data.pos = points_data.pos.apply(list)\n",
    "points_data.head(5)"
   ]
  },
  {
   "cell_type": "markdown",
   "metadata": {},
   "source": [
    "### Reading Parcel Informations"
   ]
  },
  {
   "cell_type": "code",
   "execution_count": 21,
   "metadata": {},
   "outputs": [],
   "source": [
    "#XLSX File name and Location\n",
    "LEGEND_FILE_NAME='data/legende.xlsx'"
   ]
  },
  {
   "cell_type": "code",
   "execution_count": 22,
   "metadata": {},
   "outputs": [],
   "source": [
    "legend=pd.read_excel(LEGEND_FILE_NAME)"
   ]
  },
  {
   "cell_type": "code",
   "execution_count": 23,
   "metadata": {},
   "outputs": [
    {
     "data": {
      "text/html": [
       "<div>\n",
       "<style scoped>\n",
       "    .dataframe tbody tr th:only-of-type {\n",
       "        vertical-align: middle;\n",
       "    }\n",
       "\n",
       "    .dataframe tbody tr th {\n",
       "        vertical-align: top;\n",
       "    }\n",
       "\n",
       "    .dataframe thead th {\n",
       "        text-align: right;\n",
       "    }\n",
       "</style>\n",
       "<table border=\"1\" class=\"dataframe\">\n",
       "  <thead>\n",
       "    <tr style=\"text-align: right;\">\n",
       "      <th></th>\n",
       "      <th>Unnamed: 0</th>\n",
       "      <th>folio</th>\n",
       "      <th>nr</th>\n",
       "      <th>articles</th>\n",
       "      <th>use</th>\n",
       "      <th>owner_surname</th>\n",
       "      <th>Unnamed: 6</th>\n",
       "    </tr>\n",
       "  </thead>\n",
       "  <tbody>\n",
       "    <tr>\n",
       "      <th>0</th>\n",
       "      <td>0</td>\n",
       "      <td>1</td>\n",
       "      <td>1.0</td>\n",
       "      <td>NaN</td>\n",
       "      <td>['place', 'passage']</td>\n",
       "      <td>Commune de Lausanne</td>\n",
       "      <td>NaN</td>\n",
       "    </tr>\n",
       "    <tr>\n",
       "      <th>1</th>\n",
       "      <td>1</td>\n",
       "      <td>1</td>\n",
       "      <td>2.0</td>\n",
       "      <td>NaN</td>\n",
       "      <td>['terrasse']</td>\n",
       "      <td>Commune de Lausanne</td>\n",
       "      <td>NaN</td>\n",
       "    </tr>\n",
       "    <tr>\n",
       "      <th>2</th>\n",
       "      <td>2</td>\n",
       "      <td>1</td>\n",
       "      <td>3.0</td>\n",
       "      <td>NaN</td>\n",
       "      <td>['place']</td>\n",
       "      <td>Marie-Antoine De la Forêt</td>\n",
       "      <td>NaN</td>\n",
       "    </tr>\n",
       "    <tr>\n",
       "      <th>3</th>\n",
       "      <td>3</td>\n",
       "      <td>1</td>\n",
       "      <td>4.0</td>\n",
       "      <td>NaN</td>\n",
       "      <td>['maison']</td>\n",
       "      <td>Marie-Antoine De la Forêt</td>\n",
       "      <td>NaN</td>\n",
       "    </tr>\n",
       "    <tr>\n",
       "      <th>4</th>\n",
       "      <td>4</td>\n",
       "      <td>1</td>\n",
       "      <td>5.0</td>\n",
       "      <td>NaN</td>\n",
       "      <td>['jardin']</td>\n",
       "      <td>Marie-Antoine De la Forêt</td>\n",
       "      <td>NaN</td>\n",
       "    </tr>\n",
       "  </tbody>\n",
       "</table>\n",
       "</div>"
      ],
      "text/plain": [
       "   Unnamed: 0  folio   nr  articles                   use  \\\n",
       "0           0      1  1.0       NaN  ['place', 'passage']   \n",
       "1           1      1  2.0       NaN          ['terrasse']   \n",
       "2           2      1  3.0       NaN             ['place']   \n",
       "3           3      1  4.0       NaN            ['maison']   \n",
       "4           4      1  5.0       NaN            ['jardin']   \n",
       "\n",
       "               owner_surname Unnamed: 6  \n",
       "0        Commune de Lausanne        NaN  \n",
       "1        Commune de Lausanne        NaN  \n",
       "2  Marie-Antoine De la Forêt        NaN  \n",
       "3  Marie-Antoine De la Forêt        NaN  \n",
       "4  Marie-Antoine De la Forêt        NaN  "
      ]
     },
     "execution_count": 23,
     "metadata": {},
     "output_type": "execute_result"
    }
   ],
   "source": [
    "legend.head(5)"
   ]
  },
  {
   "cell_type": "markdown",
   "metadata": {},
   "source": [
    "### Merging datasets"
   ]
  },
  {
   "cell_type": "code",
   "execution_count": 24,
   "metadata": {},
   "outputs": [
    {
     "name": "stderr",
     "output_type": "stream",
     "text": [
      "C:\\Users\\Maxime\\anaconda3\\envs\\adaexam\\lib\\site-packages\\pandas\\core\\reshape\\merge.py:1141: UserWarning: You are merging on int and float columns where the float values are not equal to their int representation\n",
      "  warnings.warn(\n"
     ]
    },
    {
     "data": {
      "text/html": [
       "<div>\n",
       "<style scoped>\n",
       "    .dataframe tbody tr th:only-of-type {\n",
       "        vertical-align: middle;\n",
       "    }\n",
       "\n",
       "    .dataframe tbody tr th {\n",
       "        vertical-align: top;\n",
       "    }\n",
       "\n",
       "    .dataframe thead th {\n",
       "        text-align: right;\n",
       "    }\n",
       "</style>\n",
       "<table border=\"1\" class=\"dataframe\">\n",
       "  <thead>\n",
       "    <tr style=\"text-align: right;\">\n",
       "      <th></th>\n",
       "      <th>Unnamed: 0</th>\n",
       "      <th>folio</th>\n",
       "      <th>nr</th>\n",
       "      <th>articles</th>\n",
       "      <th>use</th>\n",
       "      <th>owner_surname</th>\n",
       "      <th>Unnamed: 6</th>\n",
       "      <th>pos</th>\n",
       "    </tr>\n",
       "  </thead>\n",
       "  <tbody>\n",
       "    <tr>\n",
       "      <th>0</th>\n",
       "      <td>0</td>\n",
       "      <td>1</td>\n",
       "      <td>1.0</td>\n",
       "      <td>NaN</td>\n",
       "      <td>['place', 'passage']</td>\n",
       "      <td>Commune de Lausanne</td>\n",
       "      <td>NaN</td>\n",
       "      <td>[46.5194648115546, 6.6302086723144145]</td>\n",
       "    </tr>\n",
       "    <tr>\n",
       "      <th>1</th>\n",
       "      <td>1</td>\n",
       "      <td>1</td>\n",
       "      <td>2.0</td>\n",
       "      <td>NaN</td>\n",
       "      <td>['terrasse']</td>\n",
       "      <td>Commune de Lausanne</td>\n",
       "      <td>NaN</td>\n",
       "      <td>[46.5194836242143, 6.63041722290751]</td>\n",
       "    </tr>\n",
       "    <tr>\n",
       "      <th>2</th>\n",
       "      <td>2</td>\n",
       "      <td>1</td>\n",
       "      <td>3.0</td>\n",
       "      <td>NaN</td>\n",
       "      <td>['place']</td>\n",
       "      <td>Marie-Antoine De la Forêt</td>\n",
       "      <td>NaN</td>\n",
       "      <td>[46.51964083504432, 6.630692981092635]</td>\n",
       "    </tr>\n",
       "    <tr>\n",
       "      <th>3</th>\n",
       "      <td>3</td>\n",
       "      <td>1</td>\n",
       "      <td>4.0</td>\n",
       "      <td>NaN</td>\n",
       "      <td>['maison']</td>\n",
       "      <td>Marie-Antoine De la Forêt</td>\n",
       "      <td>NaN</td>\n",
       "      <td>[46.519611915812376, 6.630816905582044]</td>\n",
       "    </tr>\n",
       "    <tr>\n",
       "      <th>4</th>\n",
       "      <td>4</td>\n",
       "      <td>1</td>\n",
       "      <td>5.0</td>\n",
       "      <td>NaN</td>\n",
       "      <td>['jardin']</td>\n",
       "      <td>Marie-Antoine De la Forêt</td>\n",
       "      <td>NaN</td>\n",
       "      <td>[46.519533178353655, 6.630660454149068]</td>\n",
       "    </tr>\n",
       "  </tbody>\n",
       "</table>\n",
       "</div>"
      ],
      "text/plain": [
       "   Unnamed: 0  folio   nr  articles                   use  \\\n",
       "0           0      1  1.0       NaN  ['place', 'passage']   \n",
       "1           1      1  2.0       NaN          ['terrasse']   \n",
       "2           2      1  3.0       NaN             ['place']   \n",
       "3           3      1  4.0       NaN            ['maison']   \n",
       "4           4      1  5.0       NaN            ['jardin']   \n",
       "\n",
       "               owner_surname Unnamed: 6  \\\n",
       "0        Commune de Lausanne        NaN   \n",
       "1        Commune de Lausanne        NaN   \n",
       "2  Marie-Antoine De la Forêt        NaN   \n",
       "3  Marie-Antoine De la Forêt        NaN   \n",
       "4  Marie-Antoine De la Forêt        NaN   \n",
       "\n",
       "                                       pos  \n",
       "0   [46.5194648115546, 6.6302086723144145]  \n",
       "1     [46.5194836242143, 6.63041722290751]  \n",
       "2   [46.51964083504432, 6.630692981092635]  \n",
       "3  [46.519611915812376, 6.630816905582044]  \n",
       "4  [46.519533178353655, 6.630660454149068]  "
      ]
     },
     "execution_count": 24,
     "metadata": {},
     "output_type": "execute_result"
    }
   ],
   "source": [
    "parcel_data=legend.merge(points_data,how='left', on=['folio','nr'])\n",
    "parcel_data.head(5)"
   ]
  },
  {
   "cell_type": "code",
   "execution_count": 25,
   "metadata": {},
   "outputs": [],
   "source": [
    "parcel_data.to_csv(\"data/parcelInfos.csv\")"
   ]
  },
  {
   "cell_type": "code",
   "execution_count": null,
   "metadata": {},
   "outputs": [],
   "source": []
  }
 ],
 "metadata": {
  "kernelspec": {
   "display_name": "Python 3",
   "language": "python",
   "name": "python3"
  },
  "language_info": {
   "codemirror_mode": {
    "name": "ipython",
    "version": 3
   },
   "file_extension": ".py",
   "mimetype": "text/x-python",
   "name": "python",
   "nbconvert_exporter": "python",
   "pygments_lexer": "ipython3",
   "version": "3.8.5"
  }
 },
 "nbformat": 4,
 "nbformat_minor": 4
}
