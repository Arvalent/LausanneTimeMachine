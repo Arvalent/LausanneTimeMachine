{
 "cells": [
  {
   "cell_type": "markdown",
   "metadata": {},
   "source": [
    "# Linking Coordinates from .shp file to parcel information on .xlsx file"
   ]
  },
  {
   "cell_type": "code",
   "execution_count": 13,
   "metadata": {},
   "outputs": [],
   "source": [
    "import shapefile\n",
    "import inspect\n",
    "import pandas as pd"
   ]
  },
  {
   "cell_type": "markdown",
   "metadata": {},
   "source": [
    "### Reading Coordinates"
   ]
  },
  {
   "cell_type": "code",
   "execution_count": 14,
   "metadata": {},
   "outputs": [],
   "source": [
    "#Shape File name and location\n",
    "SHP_FILE_NAME='data/num_parcelles_corrected.shp'\n",
    "#Record File name and location\n",
    "DBF_FILE_NAME='data/num_parcelles_corrected.dbf'"
   ]
  },
  {
   "cell_type": "code",
   "execution_count": 15,
   "metadata": {},
   "outputs": [],
   "source": [
    "#Reading shape and records\n",
    "sf = shapefile.Reader(DBF_FILE_NAME)\n",
    "shapeRecs = sf.shapeRecords()\n",
    "sf = shapefile.Reader(SHP_FILE_NAME)\n",
    "shapes = sf.shapes()"
   ]
  },
  {
   "cell_type": "code",
   "execution_count": 16,
   "metadata": {},
   "outputs": [],
   "source": [
    "#Preparing information concatenation by creating lists\n",
    "shapes_lst=[]\n",
    "for i in range(0,len(shapes)) :\n",
    "    shapes_lst.append(shapes[i].points[0:2])\n",
    "\n",
    "shapeRecords_lst=[]\n",
    "for i in range(0,len(shapeRecs)) :\n",
    "    shapeRecords_lst.append(shapeRecs[i].record[1:3])"
   ]
  },
  {
   "cell_type": "code",
   "execution_count": 17,
   "metadata": {},
   "outputs": [
    {
     "data": {
      "text/html": [
       "<div>\n",
       "<style scoped>\n",
       "    .dataframe tbody tr th:only-of-type {\n",
       "        vertical-align: middle;\n",
       "    }\n",
       "\n",
       "    .dataframe tbody tr th {\n",
       "        vertical-align: top;\n",
       "    }\n",
       "\n",
       "    .dataframe thead th {\n",
       "        text-align: right;\n",
       "    }\n",
       "</style>\n",
       "<table border=\"1\" class=\"dataframe\">\n",
       "  <thead>\n",
       "    <tr style=\"text-align: right;\">\n",
       "      <th></th>\n",
       "      <th>folio</th>\n",
       "      <th>nr</th>\n",
       "      <th>Coordinates</th>\n",
       "    </tr>\n",
       "  </thead>\n",
       "  <tbody>\n",
       "    <tr>\n",
       "      <th>0</th>\n",
       "      <td>11.0</td>\n",
       "      <td>31</td>\n",
       "      <td>[2537837.2384421797, 1152812.6891318772]</td>\n",
       "    </tr>\n",
       "    <tr>\n",
       "      <th>1</th>\n",
       "      <td>8.0</td>\n",
       "      <td>62</td>\n",
       "      <td>[2538186.982063003, 1152556.1207527372]</td>\n",
       "    </tr>\n",
       "    <tr>\n",
       "      <th>2</th>\n",
       "      <td>5.0</td>\n",
       "      <td>36</td>\n",
       "      <td>[2538655.7866109735, 1152528.7225918449]</td>\n",
       "    </tr>\n",
       "    <tr>\n",
       "      <th>3</th>\n",
       "      <td>4.0</td>\n",
       "      <td>19</td>\n",
       "      <td>[2538697.705673789, 1152501.8790962875]</td>\n",
       "    </tr>\n",
       "    <tr>\n",
       "      <th>4</th>\n",
       "      <td>3.0</td>\n",
       "      <td>47</td>\n",
       "      <td>[2538287.1413293835, 1152468.0560848818]</td>\n",
       "    </tr>\n",
       "  </tbody>\n",
       "</table>\n",
       "</div>"
      ],
      "text/plain": [
       "   folio  nr                               Coordinates\n",
       "0   11.0  31  [2537837.2384421797, 1152812.6891318772]\n",
       "1    8.0  62   [2538186.982063003, 1152556.1207527372]\n",
       "2    5.0  36  [2538655.7866109735, 1152528.7225918449]\n",
       "3    4.0  19   [2538697.705673789, 1152501.8790962875]\n",
       "4    3.0  47  [2538287.1413293835, 1152468.0560848818]"
      ]
     },
     "execution_count": 17,
     "metadata": {},
     "output_type": "execute_result"
    }
   ],
   "source": [
    "#Concatenating Point Coordinates and corrresponding parcel\n",
    "df1=pd.DataFrame(shapes_lst,columns=['Coordinates'])\n",
    "df2=pd.DataFrame(shapeRecords_lst,columns=['folio','nr'])\n",
    "\n",
    "points_data=pd.concat([df2,df1],axis=1)\n",
    "\n",
    "points_data.head(5)"
   ]
  },
  {
   "cell_type": "markdown",
   "metadata": {},
   "source": [
    "### Reading Parcel Informations"
   ]
  },
  {
   "cell_type": "code",
   "execution_count": 18,
   "metadata": {},
   "outputs": [],
   "source": [
    "#XLSX File name and Location\n",
    "LEGEND_FILE_NAME='data/legende.xlsx'"
   ]
  },
  {
   "cell_type": "code",
   "execution_count": 19,
   "metadata": {},
   "outputs": [],
   "source": [
    "legend=pd.read_excel(LEGEND_FILE_NAME)"
   ]
  },
  {
   "cell_type": "code",
   "execution_count": 21,
   "metadata": {},
   "outputs": [
    {
     "data": {
      "text/html": [
       "<div>\n",
       "<style scoped>\n",
       "    .dataframe tbody tr th:only-of-type {\n",
       "        vertical-align: middle;\n",
       "    }\n",
       "\n",
       "    .dataframe tbody tr th {\n",
       "        vertical-align: top;\n",
       "    }\n",
       "\n",
       "    .dataframe thead th {\n",
       "        text-align: right;\n",
       "    }\n",
       "</style>\n",
       "<table border=\"1\" class=\"dataframe\">\n",
       "  <thead>\n",
       "    <tr style=\"text-align: right;\">\n",
       "      <th></th>\n",
       "      <th>Unnamed: 0</th>\n",
       "      <th>folio</th>\n",
       "      <th>nr</th>\n",
       "      <th>articles</th>\n",
       "      <th>use</th>\n",
       "      <th>owner_surname</th>\n",
       "    </tr>\n",
       "  </thead>\n",
       "  <tbody>\n",
       "    <tr>\n",
       "      <th>0</th>\n",
       "      <td>0</td>\n",
       "      <td>1</td>\n",
       "      <td>1.0</td>\n",
       "      <td>NaN</td>\n",
       "      <td>['place', 'passage']</td>\n",
       "      <td>Commune de Lausanne</td>\n",
       "    </tr>\n",
       "    <tr>\n",
       "      <th>1</th>\n",
       "      <td>1</td>\n",
       "      <td>1</td>\n",
       "      <td>2.0</td>\n",
       "      <td>NaN</td>\n",
       "      <td>['terrasse']</td>\n",
       "      <td>Commune de Lausanne</td>\n",
       "    </tr>\n",
       "    <tr>\n",
       "      <th>2</th>\n",
       "      <td>2</td>\n",
       "      <td>1</td>\n",
       "      <td>3.0</td>\n",
       "      <td>NaN</td>\n",
       "      <td>['place']</td>\n",
       "      <td>Marie-Antoine De la Forêt</td>\n",
       "    </tr>\n",
       "    <tr>\n",
       "      <th>3</th>\n",
       "      <td>3</td>\n",
       "      <td>1</td>\n",
       "      <td>4.0</td>\n",
       "      <td>NaN</td>\n",
       "      <td>['maison']</td>\n",
       "      <td>Marie-Antoine De la Forêt</td>\n",
       "    </tr>\n",
       "    <tr>\n",
       "      <th>4</th>\n",
       "      <td>4</td>\n",
       "      <td>1</td>\n",
       "      <td>5.0</td>\n",
       "      <td>NaN</td>\n",
       "      <td>['jardin']</td>\n",
       "      <td>Marie-Antoine De la Forêt</td>\n",
       "    </tr>\n",
       "  </tbody>\n",
       "</table>\n",
       "</div>"
      ],
      "text/plain": [
       "   Unnamed: 0  folio   nr  articles                   use  \\\n",
       "0           0      1  1.0       NaN  ['place', 'passage']   \n",
       "1           1      1  2.0       NaN          ['terrasse']   \n",
       "2           2      1  3.0       NaN             ['place']   \n",
       "3           3      1  4.0       NaN            ['maison']   \n",
       "4           4      1  5.0       NaN            ['jardin']   \n",
       "\n",
       "               owner_surname  \n",
       "0        Commune de Lausanne  \n",
       "1        Commune de Lausanne  \n",
       "2  Marie-Antoine De la Forêt  \n",
       "3  Marie-Antoine De la Forêt  \n",
       "4  Marie-Antoine De la Forêt  "
      ]
     },
     "execution_count": 21,
     "metadata": {},
     "output_type": "execute_result"
    }
   ],
   "source": [
    "legend.head(5)"
   ]
  },
  {
   "cell_type": "markdown",
   "metadata": {},
   "source": [
    "### Merging datasets"
   ]
  },
  {
   "cell_type": "code",
   "execution_count": 22,
   "metadata": {},
   "outputs": [
    {
     "name": "stderr",
     "output_type": "stream",
     "text": [
      "E:\\Anaconda\\envs\\shs_MA\\lib\\site-packages\\pandas\\core\\reshape\\merge.py:1113: UserWarning: You are merging on int and float columns where the float values are not equal to their int representation\n",
      "  warnings.warn(\n"
     ]
    },
    {
     "data": {
      "text/html": [
       "<div>\n",
       "<style scoped>\n",
       "    .dataframe tbody tr th:only-of-type {\n",
       "        vertical-align: middle;\n",
       "    }\n",
       "\n",
       "    .dataframe tbody tr th {\n",
       "        vertical-align: top;\n",
       "    }\n",
       "\n",
       "    .dataframe thead th {\n",
       "        text-align: right;\n",
       "    }\n",
       "</style>\n",
       "<table border=\"1\" class=\"dataframe\">\n",
       "  <thead>\n",
       "    <tr style=\"text-align: right;\">\n",
       "      <th></th>\n",
       "      <th>Unnamed: 0</th>\n",
       "      <th>folio</th>\n",
       "      <th>nr</th>\n",
       "      <th>articles</th>\n",
       "      <th>use</th>\n",
       "      <th>owner_surname</th>\n",
       "      <th>Coordinates</th>\n",
       "    </tr>\n",
       "  </thead>\n",
       "  <tbody>\n",
       "    <tr>\n",
       "      <th>0</th>\n",
       "      <td>0</td>\n",
       "      <td>1</td>\n",
       "      <td>1.0</td>\n",
       "      <td>NaN</td>\n",
       "      <td>['place', 'passage']</td>\n",
       "      <td>Commune de Lausanne</td>\n",
       "      <td>[2537963.7259905394, 1152338.6537582586]</td>\n",
       "    </tr>\n",
       "    <tr>\n",
       "      <th>1</th>\n",
       "      <td>1</td>\n",
       "      <td>1</td>\n",
       "      <td>2.0</td>\n",
       "      <td>NaN</td>\n",
       "      <td>['terrasse']</td>\n",
       "      <td>Commune de Lausanne</td>\n",
       "      <td>[2537979.7504673535, 1152340.5797771064]</td>\n",
       "    </tr>\n",
       "    <tr>\n",
       "      <th>2</th>\n",
       "      <td>2</td>\n",
       "      <td>1</td>\n",
       "      <td>3.0</td>\n",
       "      <td>NaN</td>\n",
       "      <td>['place']</td>\n",
       "      <td>Marie-Antoine De la Forêt</td>\n",
       "      <td>[2538001.090756188, 1152357.8369059833]</td>\n",
       "    </tr>\n",
       "    <tr>\n",
       "      <th>3</th>\n",
       "      <td>3</td>\n",
       "      <td>1</td>\n",
       "      <td>4.0</td>\n",
       "      <td>NaN</td>\n",
       "      <td>['maison']</td>\n",
       "      <td>Marie-Antoine De la Forêt</td>\n",
       "      <td>[2538010.5667689196, 1152354.524153565]</td>\n",
       "    </tr>\n",
       "    <tr>\n",
       "      <th>4</th>\n",
       "      <td>4</td>\n",
       "      <td>1</td>\n",
       "      <td>5.0</td>\n",
       "      <td>NaN</td>\n",
       "      <td>['jardin']</td>\n",
       "      <td>Marie-Antoine De la Forêt</td>\n",
       "      <td>[2537998.471370555, 1152345.8955891265]</td>\n",
       "    </tr>\n",
       "  </tbody>\n",
       "</table>\n",
       "</div>"
      ],
      "text/plain": [
       "   Unnamed: 0  folio   nr  articles                   use  \\\n",
       "0           0      1  1.0       NaN  ['place', 'passage']   \n",
       "1           1      1  2.0       NaN          ['terrasse']   \n",
       "2           2      1  3.0       NaN             ['place']   \n",
       "3           3      1  4.0       NaN            ['maison']   \n",
       "4           4      1  5.0       NaN            ['jardin']   \n",
       "\n",
       "               owner_surname                               Coordinates  \n",
       "0        Commune de Lausanne  [2537963.7259905394, 1152338.6537582586]  \n",
       "1        Commune de Lausanne  [2537979.7504673535, 1152340.5797771064]  \n",
       "2  Marie-Antoine De la Forêt   [2538001.090756188, 1152357.8369059833]  \n",
       "3  Marie-Antoine De la Forêt   [2538010.5667689196, 1152354.524153565]  \n",
       "4  Marie-Antoine De la Forêt   [2537998.471370555, 1152345.8955891265]  "
      ]
     },
     "execution_count": 22,
     "metadata": {},
     "output_type": "execute_result"
    }
   ],
   "source": [
    "parcel_data=legend.merge(points_data,how='left', on=['folio','nr'])\n",
    "parcel_data.head(5)"
   ]
  },
  {
   "cell_type": "code",
   "execution_count": 26,
   "metadata": {},
   "outputs": [],
   "source": [
    "parcel_data.to_excel(\"data/parcelInfos.xlsx\")"
   ]
  }
 ],
 "metadata": {
  "kernelspec": {
   "display_name": "Python 3",
   "language": "python",
   "name": "python3"
  },
  "language_info": {
   "codemirror_mode": {
    "name": "ipython",
    "version": 3
   },
   "file_extension": ".py",
   "mimetype": "text/x-python",
   "name": "python",
   "nbconvert_exporter": "python",
   "pygments_lexer": "ipython3",
   "version": "3.8.6"
  }
 },
 "nbformat": 4,
 "nbformat_minor": 4
}
