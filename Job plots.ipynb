{
 "cells": [
  {
   "cell_type": "code",
   "execution_count": 3,
   "metadata": {},
   "outputs": [],
   "source": [
    "import pandas as pd\n",
    "import numpy as np\n",
    "import matplotlib.pyplot as plt\n",
    "import seaborn as sns"
   ]
  },
  {
   "cell_type": "code",
   "execution_count": 4,
   "metadata": {},
   "outputs": [],
   "source": [
    "def string_to_list(column):\n",
    "    return [element.strip(\" \") for element in column.lower().strip(\"[]\").replace(\"'\", \"\").replace('\"', \"\").split(\", \")]\n",
    "\n",
    "def single_list_string_to_string(column):\n",
    "    try:\n",
    "        return column.replace(\"'\", \"\").replace('\"', \"\").replace(\"[\", \"\").replace(\"]\", \"\").capitalize()\n",
    "    except:\n",
    "        return column"
   ]
  },
  {
   "cell_type": "code",
   "execution_count": 5,
   "metadata": {},
   "outputs": [],
   "source": [
    "PATH = 'data/'\n",
    "\n",
    "recensement = pd.read_excel(PATH + '1832_cleaned_data_recensement.xlsx')\n",
    "recensement = recensement[recensement[\"VOCATION.\"] != \"[]\"]\n",
    "recensement[\"PROPRIÉTAIRES DES MAISONS.\"] = recensement[\"PROPRIÉTAIRES DES MAISONS.\"].apply(string_to_list)\n",
    "recensement[\"NOMS DES RUES.\"] = recensement[\"NOMS DES RUES.\"].apply(single_list_string_to_string)\n",
    "recensement[\"VOCATION.\"] = recensement[\"VOCATION.\"].apply(single_list_string_to_string)\n",
    "recensement[\"PROPRIÉTAIRES DES MAISONS.\"] = recensement[\"PROPRIÉTAIRES DES MAISONS.\"].apply(lambda x : x if len(x[0]) > 0 else None)\n",
    "recensement[\"PROPRIÉTAIRES DES MAISONS.\"] = recensement[\"PROPRIÉTAIRES DES MAISONS.\"].fillna(method=\"ffill\")\n",
    "recensement[\"NOMS DES CHEFS DE FAMILLE ET AUTRES LOCATAIRES. NOMS DE BAPTÊME.\"] = recensement[\"NOMS DES CHEFS DE FAMILLE ET AUTRES LOCATAIRES. NOMS DE BAPTÊME.\"].apply(single_list_string_to_string)\n",
    "recensement[\"NOMS DES CHEFS DE FAMILLE ET AUTRES LOCATAIRES. NOMS DE FAMILLE.\"] = recensement[\"NOMS DES CHEFS DE FAMILLE ET AUTRES LOCATAIRES. NOMS DE FAMILLE.\"].apply(single_list_string_to_string)"
   ]
  },
  {
   "cell_type": "code",
   "execution_count": 6,
   "metadata": {},
   "outputs": [
    {
     "data": {
      "text/html": [
       "<div>\n",
       "<style scoped>\n",
       "    .dataframe tbody tr th:only-of-type {\n",
       "        vertical-align: middle;\n",
       "    }\n",
       "\n",
       "    .dataframe tbody tr th {\n",
       "        vertical-align: top;\n",
       "    }\n",
       "\n",
       "    .dataframe thead th {\n",
       "        text-align: right;\n",
       "    }\n",
       "</style>\n",
       "<table border=\"1\" class=\"dataframe\">\n",
       "  <thead>\n",
       "    <tr style=\"text-align: right;\">\n",
       "      <th></th>\n",
       "      <th>Unnamed: 0</th>\n",
       "      <th>NOMS DES RUES.</th>\n",
       "      <th>N° des MAISONS.</th>\n",
       "      <th>PROPRIÉTAIRES DES MAISONS.</th>\n",
       "      <th>NOMS DES CHEFS DE FAMILLE ET AUTRES LOCATAIRES. NOMS DE BAPTÊME.</th>\n",
       "      <th>NOMS DES CHEFS DE FAMILLE ET AUTRES LOCATAIRES. NOMS DE FAMILLE.</th>\n",
       "      <th>Année de la naissance. [h]</th>\n",
       "      <th>NOMS DE LEURS ÉPOUSES.</th>\n",
       "      <th>Année de la naissance. [f]</th>\n",
       "      <th>Noms de leurs enfans actuellement dans la Commune.</th>\n",
       "      <th>...</th>\n",
       "      <th>Date de leur demeure dans la Commune.</th>\n",
       "      <th>VOCATION.</th>\n",
       "      <th>N° de leur Récépissé. [famille]</th>\n",
       "      <th>NOMS DES PENSIONNAIRES, COMMIS, APPRENTIS, OUVRIERS ET DOMESTIQUES. NOMS DE BAPTÊME.</th>\n",
       "      <th>NOMS DES PENSIONNAIRES, COMMIS, APPRENTIS, OUVRIERS ET DOMESTIQUES. NOMS DE FAMILLE.</th>\n",
       "      <th>D'où ils sont bourgeois, ou à ce défaut d'où ils sont originaires. [dom/pens]</th>\n",
       "      <th>Indiquer ici s'ils sont Pensionnaires, Commis, Apprentis, Ouvriers ou Domestiques.</th>\n",
       "      <th>N° de leur Récépissé. [dom/pens]</th>\n",
       "      <th>OBSERVATIONS.</th>\n",
       "      <th>Page</th>\n",
       "    </tr>\n",
       "  </thead>\n",
       "  <tbody>\n",
       "    <tr>\n",
       "      <th>0</th>\n",
       "      <td>0</td>\n",
       "      <td>Martherey</td>\n",
       "      <td>['7']</td>\n",
       "      <td>[gilliéron]</td>\n",
       "      <td>Jean louis</td>\n",
       "      <td>Deprez, devez</td>\n",
       "      <td>['1768']</td>\n",
       "      <td>[['Echs', 'Ochs']]</td>\n",
       "      <td>['1793']</td>\n",
       "      <td>[['Laura', 'Lucia', 'Lucy']]</td>\n",
       "      <td>...</td>\n",
       "      <td>['1831']</td>\n",
       "      <td>Journalier</td>\n",
       "      <td>[]</td>\n",
       "      <td>[]</td>\n",
       "      <td>[]</td>\n",
       "      <td>[]</td>\n",
       "      <td>[]</td>\n",
       "      <td>[]</td>\n",
       "      <td>[]</td>\n",
       "      <td>3</td>\n",
       "    </tr>\n",
       "    <tr>\n",
       "      <th>1</th>\n",
       "      <td>1</td>\n",
       "      <td>Martherey</td>\n",
       "      <td>['7']</td>\n",
       "      <td>[gilliéron]</td>\n",
       "      <td>Jean andre, jean marc, jean marie, jeanine, je...</td>\n",
       "      <td>Fontannaz</td>\n",
       "      <td>['1778']</td>\n",
       "      <td>['Sophprant', 'Loretti']</td>\n",
       "      <td>['1778']</td>\n",
       "      <td>['Jeanne', 'Jeanne', 'Abram', 'Jeannette', ['D...</td>\n",
       "      <td>...</td>\n",
       "      <td>['1812']</td>\n",
       "      <td>Journalier</td>\n",
       "      <td>['1525']</td>\n",
       "      <td>[]</td>\n",
       "      <td>[]</td>\n",
       "      <td>[]</td>\n",
       "      <td>[]</td>\n",
       "      <td>[]</td>\n",
       "      <td>[]</td>\n",
       "      <td>3</td>\n",
       "    </tr>\n",
       "  </tbody>\n",
       "</table>\n",
       "<p>2 rows × 22 columns</p>\n",
       "</div>"
      ],
      "text/plain": [
       "   Unnamed: 0 NOMS DES RUES. N° des MAISONS. PROPRIÉTAIRES DES MAISONS.  \\\n",
       "0           0      Martherey           ['7']                [gilliéron]   \n",
       "1           1      Martherey           ['7']                [gilliéron]   \n",
       "\n",
       "  NOMS DES CHEFS DE FAMILLE ET AUTRES LOCATAIRES. NOMS DE BAPTÊME.  \\\n",
       "0                                         Jean louis                 \n",
       "1  Jean andre, jean marc, jean marie, jeanine, je...                 \n",
       "\n",
       "  NOMS DES CHEFS DE FAMILLE ET AUTRES LOCATAIRES. NOMS DE FAMILLE.  \\\n",
       "0                                      Deprez, devez                 \n",
       "1                                          Fontannaz                 \n",
       "\n",
       "  Année de la naissance. [h]    NOMS DE LEURS ÉPOUSES.  \\\n",
       "0                   ['1768']        [['Echs', 'Ochs']]   \n",
       "1                   ['1778']  ['Sophprant', 'Loretti']   \n",
       "\n",
       "  Année de la naissance. [f]  \\\n",
       "0                   ['1793']   \n",
       "1                   ['1778']   \n",
       "\n",
       "  Noms de leurs enfans actuellement dans la Commune.  ...  \\\n",
       "0                       [['Laura', 'Lucia', 'Lucy']]  ...   \n",
       "1  ['Jeanne', 'Jeanne', 'Abram', 'Jeannette', ['D...  ...   \n",
       "\n",
       "  Date de leur demeure dans la Commune.   VOCATION.  \\\n",
       "0                              ['1831']  Journalier   \n",
       "1                              ['1812']  Journalier   \n",
       "\n",
       "  N° de leur Récépissé. [famille]  \\\n",
       "0                              []   \n",
       "1                        ['1525']   \n",
       "\n",
       "  NOMS DES PENSIONNAIRES, COMMIS, APPRENTIS, OUVRIERS ET DOMESTIQUES. NOMS DE BAPTÊME.  \\\n",
       "0                                                 []                                     \n",
       "1                                                 []                                     \n",
       "\n",
       "  NOMS DES PENSIONNAIRES, COMMIS, APPRENTIS, OUVRIERS ET DOMESTIQUES. NOMS DE FAMILLE.  \\\n",
       "0                                                 []                                     \n",
       "1                                                 []                                     \n",
       "\n",
       "  D'où ils sont bourgeois, ou à ce défaut d'où ils sont originaires. [dom/pens]  \\\n",
       "0                                                 []                              \n",
       "1                                                 []                              \n",
       "\n",
       "  Indiquer ici s'ils sont Pensionnaires, Commis, Apprentis, Ouvriers ou Domestiques.  \\\n",
       "0                                                 []                                   \n",
       "1                                                 []                                   \n",
       "\n",
       "  N° de leur Récépissé. [dom/pens] OBSERVATIONS. Page  \n",
       "0                               []            []    3  \n",
       "1                               []            []    3  \n",
       "\n",
       "[2 rows x 22 columns]"
      ]
     },
     "execution_count": 6,
     "metadata": {},
     "output_type": "execute_result"
    }
   ],
   "source": [
    "recensement.head(2)"
   ]
  },
  {
   "cell_type": "code",
   "execution_count": 7,
   "metadata": {},
   "outputs": [
    {
     "data": {
      "text/plain": [
       "Journalier       0.058963\n",
       "Vigneron         0.043036\n",
       "Rentier          0.038631\n",
       "Rentière         0.037953\n",
       "Rentiere         0.033548\n",
       "                   ...   \n",
       "Garde foret      0.000339\n",
       "Shupoimeus       0.000339\n",
       "Bonnetier        0.000339\n",
       "Retraitée        0.000339\n",
       "Bre de bierre    0.000339\n",
       "Name: VOCATION., Length: 475, dtype: float64"
      ]
     },
     "execution_count": 7,
     "metadata": {},
     "output_type": "execute_result"
    }
   ],
   "source": [
    "global_job_frequencies = recensement[\"VOCATION.\"].value_counts().apply(lambda c : c/len(recensement))\n",
    "global_job_frequencies"
   ]
  },
  {
   "cell_type": "code",
   "execution_count": 31,
   "metadata": {},
   "outputs": [
    {
     "data": {
      "text/plain": [
       "['Grand saint jean',\n",
       " 'Martherey',\n",
       " 'Rue du pré',\n",
       " 'De bourg',\n",
       " 'Cheneau bourg',\n",
       " 'Cité derrière',\n",
       " 'Barre',\n",
       " 'Ouchy',\n",
       " 'Halle',\n",
       " 'Saint pierre',\n",
       " 'Saint laurent',\n",
       " 'Etraz',\n",
       " 'Rue de saint françois',\n",
       " 'Cité devant',\n",
       " 'Rue du pont']"
      ]
     },
     "execution_count": 31,
     "metadata": {},
     "output_type": "execute_result"
    }
   ],
   "source": [
    "top_10_streets = list(recensement[\"NOMS DES RUES.\"].value_counts()[:15].index)\n",
    "top_10_streets"
   ]
  },
  {
   "cell_type": "code",
   "execution_count": null,
   "metadata": {},
   "outputs": [],
   "source": [
    "fig, axes = plt.subplots(ncols=2, nrows=8, figsize=(18,40), )\n",
    "for street, ax in zip(top_10_streets, axes.flat):\n",
    "    top_10_street_jobs = list(recensement[recensement[\"NOMS DES RUES.\"] == street][\"VOCATION.\"].value_counts()[:15].index)\n",
    "    top_10_street_values = list(recensement[recensement[\"NOMS DES RUES.\"] == street][\"VOCATION.\"].value_counts()[:15].values)\n",
    "    top_10_street_frequencies = [v/len(recensement[recensement[\"NOMS DES RUES.\"] == street]) for v in top_10_street_values]\n",
    "    top_10_global_frequencies = global_job_frequencies[top_10_street_jobs]\n",
    "    data = pd.DataFrame(data={\"Métier\": top_10_street_jobs, \"fréquence dans la rue {}\".format(street): top_10_street_frequencies, \"fréquence dans le recensement\": top_10_global_frequencies})\n",
    "    data = data.melt(id_vars='Métier')\n",
    "    sns.barplot(data=data, x=\"Métier\", y=\"value\", hue=\"variable\",palette=\"Blues_d\", ax=ax)\n",
    "    ax.set_title(street, fontsize=18)\n",
    "    ax.set_ylabel(\"Fréquence\", fontsize=14)\n",
    "    ax.set_xlabel(\"Métier\", fontsize=14)\n",
    "    ax.set_xticklabels(top_10_street_jobs, rotation=45)\n",
    "plt.tight_layout(pad=0.1, w_pad=0.5, h_pad=0.5)\n",
    "fig.delaxes(axes[7][1])"
   ]
  },
  {
   "cell_type": "code",
   "execution_count": null,
   "metadata": {},
   "outputs": [],
   "source": []
  }
 ],
 "metadata": {
  "kernelspec": {
   "display_name": "Python 3",
   "language": "python",
   "name": "python3"
  },
  "language_info": {
   "codemirror_mode": {
    "name": "ipython",
    "version": 3
   },
   "file_extension": ".py",
   "mimetype": "text/x-python",
   "name": "python",
   "nbconvert_exporter": "python",
   "pygments_lexer": "ipython3",
   "version": "3.8.5"
  }
 },
 "nbformat": 4,
 "nbformat_minor": 4
}
